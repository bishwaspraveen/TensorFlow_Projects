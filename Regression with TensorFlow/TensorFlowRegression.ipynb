{
  "nbformat": 4,
  "nbformat_minor": 0,
  "metadata": {
    "colab": {
      "provenance": []
    },
    "kernelspec": {
      "name": "python3",
      "display_name": "Python 3"
    },
    "language_info": {
      "name": "python"
    },
    "accelerator": "GPU"
  },
  "cells": [
    {
      "cell_type": "code",
      "metadata": {
        "id": "8f7q8P4DGC4_"
      },
      "source": [
        "import tensorflow as tf\n",
        "import matplotlib.pyplot as plt"
      ],
      "execution_count": null,
      "outputs": []
    },
    {
      "cell_type": "code",
      "metadata": {
        "id": "WpVxaGMBGKcB"
      },
      "source": [
        "tf.random.set_seed(42)"
      ],
      "execution_count": null,
      "outputs": []
    },
    {
      "cell_type": "code",
      "metadata": {
        "id": "FQaq_M-6HhD8"
      },
      "source": [
        "X = tf.constant([-5, -3, 0, 4, 7, 9, 11])\n",
        "y = tf.constant([5, 7, 10, 14, 17, 19, 21])"
      ],
      "execution_count": null,
      "outputs": []
    },
    {
      "cell_type": "code",
      "metadata": {
        "colab": {
          "base_uri": "https://localhost:8080/",
          "height": 283
        },
        "id": "owav7wjtHwa2",
        "outputId": "ef64ab32-1589-41d8-d9d3-0f5ac0128498"
      },
      "source": [
        "plt.scatter(X, y)"
      ],
      "execution_count": null,
      "outputs": [
        {
          "output_type": "execute_result",
          "data": {
            "text/plain": [
              "<matplotlib.collections.PathCollection at 0x7f074047da50>"
            ]
          },
          "metadata": {},
          "execution_count": 4
        },
        {
          "output_type": "display_data",
          "data": {
            "image/png": "[encoded data removed]",
            "text/plain": [
              "<Figure size 432x288 with 1 Axes>"
            ]
          },
          "metadata": {
            "needs_background": "light"
          }
        }
      ]
    },
    {
      "cell_type": "code",
      "metadata": {
        "colab": {
          "base_uri": "https://localhost:8080/"
        },
        "id": "8B2pRmDJH4HO",
        "outputId": "093665d9-b8fd-46bc-8162-bbfdb52bc9d7"
      },
      "source": [
        "#Checking the shape of the input i.e., an input is just a feature in our case\n",
        "X[0].shape"
      ],
      "execution_count": null,
      "outputs": [
        {
          "output_type": "execute_result",
          "data": {
            "text/plain": [
              "TensorShape([])"
            ]
          },
          "metadata": {},
          "execution_count": 5
        }
      ]
    },
    {
      "cell_type": "code",
      "metadata": {
        "colab": {
          "base_uri": "https://localhost:8080/"
        },
        "id": "J-y1J5h_IHYp",
        "outputId": "328078a4-6f2a-4536-988a-b44b7e2f8182"
      },
      "source": [
        "#building the model for regression\n",
        "model = tf.keras.models.Sequential([\n",
        "                                    tf.keras.layers.Dense(units=1)\n",
        "])\n",
        "\n",
        "#compiling the model\n",
        "model.compile(optimizer=tf.keras.optimizers.SGD(), \n",
        "              loss=tf.keras.losses.MAE, \n",
        "              metrics=tf.keras.metrics.MAE)\n",
        "\n",
        "#fit the model\n",
        "model.fit(X, y, epochs=100)"
      ],
      "execution_count": null,
      "outputs": [
        {
          "output_type": "stream",
          "name": "stdout",
          "text": [
            "Epoch 1/100\n",
            "1/1 [==============================] - 3s 3s/step - loss: 11.4127 - mean_absolute_error: 11.4127\n",
            "Epoch 2/100\n",
            "1/1 [==============================] - 0s 8ms/step - loss: 11.2947 - mean_absolute_error: 11.2947\n",
            "Epoch 3/100\n",
            "1/1 [==============================] - 0s 9ms/step - loss: 11.1767 - mean_absolute_error: 11.1767\n",
            "Epoch 4/100\n",
            "1/1 [==============================] - 0s 6ms/step - loss: 11.0588 - mean_absolute_error: 11.0588\n",
            "Epoch 5/100\n",
            "1/1 [==============================] - 0s 5ms/step - loss: 10.9408 - mean_absolute_error: 10.9408\n",
            "Epoch 6/100\n",
            "1/1 [==============================] - 0s 10ms/step - loss: 10.8229 - mean_absolute_error: 10.8229\n",
            "Epoch 7/100\n",
            "1/1 [==============================] - 0s 7ms/step - loss: 10.7049 - mean_absolute_error: 10.7049\n",
            "Epoch 8/100\n",
            "1/1 [==============================] - 0s 9ms/step - loss: 10.5869 - mean_absolute_error: 10.5869\n",
            "Epoch 9/100\n",
            "1/1 [==============================] - 0s 9ms/step - loss: 10.4690 - mean_absolute_error: 10.4690\n",
            "Epoch 10/100\n",
            "1/1 [==============================] - 0s 6ms/step - loss: 10.3510 - mean_absolute_error: 10.3510\n",
            "Epoch 11/100\n",
            "1/1 [==============================] - 0s 6ms/step - loss: 10.2331 - mean_absolute_error: 10.2331\n",
            "Epoch 12/100\n",
            "1/1 [==============================] - 0s 7ms/step - loss: 10.1151 - mean_absolute_error: 10.1151\n",
            "Epoch 13/100\n",
            "1/1 [==============================] - 0s 7ms/step - loss: 9.9972 - mean_absolute_error: 9.9972\n",
            "Epoch 14/100\n",
            "1/1 [==============================] - 0s 8ms/step - loss: 9.8792 - mean_absolute_error: 9.8792\n",
            "Epoch 15/100\n",
            "1/1 [==============================] - 0s 9ms/step - loss: 9.7612 - mean_absolute_error: 9.7612\n",
            "Epoch 16/100\n",
            "1/1 [==============================] - 0s 8ms/step - loss: 9.6433 - mean_absolute_error: 9.6433\n",
            "Epoch 17/100\n",
            "1/1 [==============================] - 0s 8ms/step - loss: 9.5253 - mean_absolute_error: 9.5253\n",
            "Epoch 18/100\n",
            "1/1 [==============================] - 0s 10ms/step - loss: 9.4074 - mean_absolute_error: 9.4074\n",
            "Epoch 19/100\n",
            "1/1 [==============================] - 0s 10ms/step - loss: 9.2894 - mean_absolute_error: 9.2894\n",
            "Epoch 20/100\n",
            "1/1 [==============================] - 0s 13ms/step - loss: 9.1714 - mean_absolute_error: 9.1714\n",
            "Epoch 21/100\n",
            "1/1 [==============================] - 0s 14ms/step - loss: 9.0535 - mean_absolute_error: 9.0535\n",
            "Epoch 22/100\n",
            "1/1 [==============================] - 0s 10ms/step - loss: 8.9355 - mean_absolute_error: 8.9355\n",
            "Epoch 23/100\n",
            "1/1 [==============================] - 0s 9ms/step - loss: 8.8176 - mean_absolute_error: 8.8176\n",
            "Epoch 24/100\n",
            "1/1 [==============================] - 0s 8ms/step - loss: 8.6996 - mean_absolute_error: 8.6996\n",
            "Epoch 25/100\n",
            "1/1 [==============================] - 0s 13ms/step - loss: 8.5816 - mean_absolute_error: 8.5816\n",
            "Epoch 26/100\n",
            "1/1 [==============================] - 0s 12ms/step - loss: 8.4637 - mean_absolute_error: 8.4637\n",
            "Epoch 27/100\n",
            "1/1 [==============================] - 0s 8ms/step - loss: 8.3457 - mean_absolute_error: 8.3457\n",
            "Epoch 28/100\n",
            "1/1 [==============================] - 0s 20ms/step - loss: 8.2278 - mean_absolute_error: 8.2278\n",
            "Epoch 29/100\n",
            "1/1 [==============================] - 0s 8ms/step - loss: 8.1098 - mean_absolute_error: 8.1098\n",
            "Epoch 30/100\n",
            "1/1 [==============================] - 0s 9ms/step - loss: 7.9918 - mean_absolute_error: 7.9918\n",
            "Epoch 31/100\n",
            "1/1 [==============================] - 0s 22ms/step - loss: 7.8739 - mean_absolute_error: 7.8739\n",
            "Epoch 32/100\n",
            "1/1 [==============================] - 0s 7ms/step - loss: 7.7559 - mean_absolute_error: 7.7559\n",
            "Epoch 33/100\n",
            "1/1 [==============================] - 0s 8ms/step - loss: 7.6380 - mean_absolute_error: 7.6380\n",
            "Epoch 34/100\n",
            "1/1 [==============================] - 0s 7ms/step - loss: 7.5200 - mean_absolute_error: 7.5200\n",
            "Epoch 35/100\n",
            "1/1 [==============================] - 0s 9ms/step - loss: 7.4020 - mean_absolute_error: 7.4020\n",
            "Epoch 36/100\n",
            "1/1 [==============================] - 0s 8ms/step - loss: 7.2841 - mean_absolute_error: 7.2841\n",
            "Epoch 37/100\n",
            "1/1 [==============================] - 0s 8ms/step - loss: 7.1661 - mean_absolute_error: 7.1661\n",
            "Epoch 38/100\n",
            "1/1 [==============================] - 0s 10ms/step - loss: 7.0482 - mean_absolute_error: 7.0482\n",
            "Epoch 39/100\n",
            "1/1 [==============================] - 0s 21ms/step - loss: 6.9302 - mean_absolute_error: 6.9302\n",
            "Epoch 40/100\n",
            "1/1 [==============================] - 0s 7ms/step - loss: 6.8123 - mean_absolute_error: 6.8123\n",
            "Epoch 41/100\n",
            "1/1 [==============================] - 0s 11ms/step - loss: 6.7308 - mean_absolute_error: 6.7308\n",
            "Epoch 42/100\n",
            "1/1 [==============================] - 0s 11ms/step - loss: 6.7255 - mean_absolute_error: 6.7255\n",
            "Epoch 43/100\n",
            "1/1 [==============================] - 0s 9ms/step - loss: 6.7202 - mean_absolute_error: 6.7202\n",
            "Epoch 44/100\n",
            "1/1 [==============================] - 0s 14ms/step - loss: 6.7149 - mean_absolute_error: 6.7149\n",
            "Epoch 45/100\n",
            "1/1 [==============================] - 0s 8ms/step - loss: 6.7096 - mean_absolute_error: 6.7096\n",
            "Epoch 46/100\n",
            "1/1 [==============================] - 0s 6ms/step - loss: 6.7043 - mean_absolute_error: 6.7043\n",
            "Epoch 47/100\n",
            "1/1 [==============================] - 0s 8ms/step - loss: 6.6990 - mean_absolute_error: 6.6990\n",
            "Epoch 48/100\n",
            "1/1 [==============================] - 0s 10ms/step - loss: 6.6937 - mean_absolute_error: 6.6937\n",
            "Epoch 49/100\n",
            "1/1 [==============================] - 0s 14ms/step - loss: 6.6884 - mean_absolute_error: 6.6884\n",
            "Epoch 50/100\n",
            "1/1 [==============================] - 0s 10ms/step - loss: 6.6831 - mean_absolute_error: 6.6831\n",
            "Epoch 51/100\n",
            "1/1 [==============================] - 0s 6ms/step - loss: 6.6777 - mean_absolute_error: 6.6777\n",
            "Epoch 52/100\n",
            "1/1 [==============================] - 0s 10ms/step - loss: 6.6724 - mean_absolute_error: 6.6724\n",
            "Epoch 53/100\n",
            "1/1 [==============================] - 0s 9ms/step - loss: 6.6671 - mean_absolute_error: 6.6671\n",
            "Epoch 54/100\n",
            "1/1 [==============================] - 0s 8ms/step - loss: 6.6618 - mean_absolute_error: 6.6618\n",
            "Epoch 55/100\n",
            "1/1 [==============================] - 0s 8ms/step - loss: 6.6565 - mean_absolute_error: 6.6565\n",
            "Epoch 56/100\n",
            "1/1 [==============================] - 0s 6ms/step - loss: 6.6512 - mean_absolute_error: 6.6512\n",
            "Epoch 57/100\n",
            "1/1 [==============================] - 0s 35ms/step - loss: 6.6459 - mean_absolute_error: 6.6459\n",
            "Epoch 58/100\n",
            "1/1 [==============================] - 0s 15ms/step - loss: 6.6406 - mean_absolute_error: 6.6406\n",
            "Epoch 59/100\n",
            "1/1 [==============================] - 0s 20ms/step - loss: 6.6353 - mean_absolute_error: 6.6353\n",
            "Epoch 60/100\n",
            "1/1 [==============================] - 0s 17ms/step - loss: 6.6300 - mean_absolute_error: 6.6300\n",
            "Epoch 61/100\n",
            "1/1 [==============================] - 0s 13ms/step - loss: 6.6247 - mean_absolute_error: 6.6247\n",
            "Epoch 62/100\n",
            "1/1 [==============================] - 0s 10ms/step - loss: 6.6194 - mean_absolute_error: 6.6194\n",
            "Epoch 63/100\n",
            "1/1 [==============================] - 0s 6ms/step - loss: 6.6141 - mean_absolute_error: 6.6141\n",
            "Epoch 64/100\n",
            "1/1 [==============================] - 0s 6ms/step - loss: 6.6088 - mean_absolute_error: 6.6088\n",
            "Epoch 65/100\n",
            "1/1 [==============================] - 0s 8ms/step - loss: 6.6035 - mean_absolute_error: 6.6035\n",
            "Epoch 66/100\n",
            "1/1 [==============================] - 0s 9ms/step - loss: 6.5982 - mean_absolute_error: 6.5982\n",
            "Epoch 67/100\n",
            "1/1 [==============================] - 0s 6ms/step - loss: 6.5928 - mean_absolute_error: 6.5928\n",
            "Epoch 68/100\n",
            "1/1 [==============================] - 0s 8ms/step - loss: 6.5875 - mean_absolute_error: 6.5875\n",
            "Epoch 69/100\n",
            "1/1 [==============================] - 0s 8ms/step - loss: 6.5822 - mean_absolute_error: 6.5822\n",
            "Epoch 70/100\n",
            "1/1 [==============================] - 0s 8ms/step - loss: 6.5769 - mean_absolute_error: 6.5769\n",
            "Epoch 71/100\n",
            "1/1 [==============================] - 0s 8ms/step - loss: 6.5716 - mean_absolute_error: 6.5716\n",
            "Epoch 72/100\n",
            "1/1 [==============================] - 0s 9ms/step - loss: 6.5663 - mean_absolute_error: 6.5663\n",
            "Epoch 73/100\n",
            "1/1 [==============================] - 0s 9ms/step - loss: 6.5610 - mean_absolute_error: 6.5610\n",
            "Epoch 74/100\n",
            "1/1 [==============================] - 0s 14ms/step - loss: 6.5557 - mean_absolute_error: 6.5557\n",
            "Epoch 75/100\n",
            "1/1 [==============================] - 0s 13ms/step - loss: 6.5504 - mean_absolute_error: 6.5504\n",
            "Epoch 76/100\n",
            "1/1 [==============================] - 0s 12ms/step - loss: 6.5451 - mean_absolute_error: 6.5451\n",
            "Epoch 77/100\n",
            "1/1 [==============================] - 0s 14ms/step - loss: 6.5398 - mean_absolute_error: 6.5398\n",
            "Epoch 78/100\n",
            "1/1 [==============================] - 0s 6ms/step - loss: 6.5345 - mean_absolute_error: 6.5345\n",
            "Epoch 79/100\n",
            "1/1 [==============================] - 0s 9ms/step - loss: 6.5292 - mean_absolute_error: 6.5292\n",
            "Epoch 80/100\n",
            "1/1 [==============================] - 0s 8ms/step - loss: 6.5239 - mean_absolute_error: 6.5239\n",
            "Epoch 81/100\n",
            "1/1 [==============================] - 0s 12ms/step - loss: 6.5186 - mean_absolute_error: 6.5186\n",
            "Epoch 82/100\n",
            "1/1 [==============================] - 0s 15ms/step - loss: 6.5133 - mean_absolute_error: 6.5133\n",
            "Epoch 83/100\n",
            "1/1 [==============================] - 0s 8ms/step - loss: 6.5080 - mean_absolute_error: 6.5080\n",
            "Epoch 84/100\n",
            "1/1 [==============================] - 0s 7ms/step - loss: 6.5026 - mean_absolute_error: 6.5026\n",
            "Epoch 85/100\n",
            "1/1 [==============================] - 0s 7ms/step - loss: 6.4973 - mean_absolute_error: 6.4973\n",
            "Epoch 86/100\n",
            "1/1 [==============================] - 0s 8ms/step - loss: 6.4920 - mean_absolute_error: 6.4920\n",
            "Epoch 87/100\n",
            "1/1 [==============================] - 0s 9ms/step - loss: 6.4867 - mean_absolute_error: 6.4867\n",
            "Epoch 88/100\n",
            "1/1 [==============================] - 0s 26ms/step - loss: 6.4814 - mean_absolute_error: 6.4814\n",
            "Epoch 89/100\n",
            "1/1 [==============================] - 0s 8ms/step - loss: 6.4761 - mean_absolute_error: 6.4761\n",
            "Epoch 90/100\n",
            "1/1 [==============================] - 0s 7ms/step - loss: 6.4708 - mean_absolute_error: 6.4708\n",
            "Epoch 91/100\n",
            "1/1 [==============================] - 0s 14ms/step - loss: 6.4655 - mean_absolute_error: 6.4655\n",
            "Epoch 92/100\n",
            "1/1 [==============================] - 0s 8ms/step - loss: 6.4602 - mean_absolute_error: 6.4602\n",
            "Epoch 93/100\n",
            "1/1 [==============================] - 0s 17ms/step - loss: 6.4549 - mean_absolute_error: 6.4549\n",
            "Epoch 94/100\n",
            "1/1 [==============================] - 0s 17ms/step - loss: 6.4496 - mean_absolute_error: 6.4496\n",
            "Epoch 95/100\n",
            "1/1 [==============================] - 0s 18ms/step - loss: 6.4443 - mean_absolute_error: 6.4443\n",
            "Epoch 96/100\n",
            "1/1 [==============================] - 0s 21ms/step - loss: 6.4390 - mean_absolute_error: 6.4390\n",
            "Epoch 97/100\n",
            "1/1 [==============================] - 0s 8ms/step - loss: 6.4337 - mean_absolute_error: 6.4337\n",
            "Epoch 98/100\n",
            "1/1 [==============================] - 0s 9ms/step - loss: 6.4284 - mean_absolute_error: 6.4284\n",
            "Epoch 99/100\n",
            "1/1 [==============================] - 0s 16ms/step - loss: 6.4231 - mean_absolute_error: 6.4231\n",
            "Epoch 100/100\n",
            "1/1 [==============================] - 0s 12ms/step - loss: 6.4177 - mean_absolute_error: 6.4177\n"
          ]
        },
        {
          "output_type": "execute_result",
          "data": {
            "text/plain": [
              "<keras.callbacks.History at 0x7f06cd126550>"
            ]
          },
          "metadata": {},
          "execution_count": 6
        }
      ]
    },
    {
      "cell_type": "code",
      "metadata": {
        "colab": {
          "base_uri": "https://localhost:8080/"
        },
        "id": "GNGCDZ8JJEVm",
        "outputId": "009ef8cb-60c2-4226-97e6-ed6744b92cbe"
      },
      "source": [
        "#now evaluate the trained model\n",
        "model.evaluate(tf.constant([25]), tf.constant([35]))"
      ],
      "execution_count": null,
      "outputs": [
        {
          "output_type": "stream",
          "name": "stdout",
          "text": [
            "1/1 [==============================] - 0s 141ms/step - loss: 15.0801 - mean_absolute_error: 15.0801\n"
          ]
        },
        {
          "output_type": "execute_result",
          "data": {
            "text/plain": [
              "[15.080135345458984, 15.080135345458984]"
            ]
          },
          "metadata": {},
          "execution_count": 7
        }
      ]
    },
    {
      "cell_type": "code",
      "metadata": {
        "colab": {
          "base_uri": "https://localhost:8080/"
        },
        "id": "gm5X5boKLCcc",
        "outputId": "0bcd5f2b-8f24-4f11-9bde-0d0ec574e34f"
      },
      "source": [
        "#now test the model\n",
        "y_pred = model.predict(tf.constant([25]))\n",
        "y_pred"
      ],
      "execution_count": null,
      "outputs": [
        {
          "output_type": "execute_result",
          "data": {
            "text/plain": [
              "array([[50.080135]], dtype=float32)"
            ]
          },
          "metadata": {},
          "execution_count": 8
        }
      ]
    },
    {
      "cell_type": "markdown",
      "metadata": {
        "id": "wQiz65xHLZeG"
      },
      "source": [
        "Now lets make the model better"
      ]
    },
    {
      "cell_type": "code",
      "metadata": {
        "colab": {
          "base_uri": "https://localhost:8080/"
        },
        "id": "euP2mfvAONM0",
        "outputId": "e94234f4-0e47-477c-c04a-f7ea8a4071dd"
      },
      "source": [
        "# create the model\n",
        "model2 = tf.keras.models.Sequential([\n",
        "                                     tf.keras.layers.Dense(100, activation='relu'),\n",
        "                                     tf.keras.layers.Dense(50, activation='relu'),\n",
        "                                     tf.keras.layers.Dense(1)\n",
        "])\n",
        "\n",
        "#compile the model\n",
        "model2.compile(optimizer=tf.keras.optimizers.Adam(learning_rate=0.01),\n",
        "               loss = tf.keras.losses.mae,\n",
        "               metrics = tf.keras.metrics.mae\n",
        "               )\n",
        "\n",
        "#now fit the model\n",
        "model2.fit(X, y, epochs=100)"
      ],
      "execution_count": null,
      "outputs": [
        {
          "output_type": "stream",
          "name": "stdout",
          "text": [
            "Epoch 1/100\n",
            "1/1 [==============================] - 1s 510ms/step - loss: 12.7643 - mean_absolute_error: 12.7643\n",
            "Epoch 2/100\n",
            "1/1 [==============================] - 0s 9ms/step - loss: 11.3754 - mean_absolute_error: 11.3754\n",
            "Epoch 3/100\n",
            "1/1 [==============================] - 0s 10ms/step - loss: 10.0516 - mean_absolute_error: 10.0516\n",
            "Epoch 4/100\n",
            "1/1 [==============================] - 0s 9ms/step - loss: 8.4865 - mean_absolute_error: 8.4865\n",
            "Epoch 5/100\n",
            "1/1 [==============================] - 0s 12ms/step - loss: 6.6308 - mean_absolute_error: 6.6308\n",
            "Epoch 6/100\n",
            "1/1 [==============================] - 0s 13ms/step - loss: 4.6322 - mean_absolute_error: 4.6322\n",
            "Epoch 7/100\n",
            "1/1 [==============================] - 0s 6ms/step - loss: 3.3220 - mean_absolute_error: 3.3220\n",
            "Epoch 8/100\n",
            "1/1 [==============================] - 0s 11ms/step - loss: 4.2365 - mean_absolute_error: 4.2365\n",
            "Epoch 9/100\n",
            "1/1 [==============================] - 0s 9ms/step - loss: 4.8625 - mean_absolute_error: 4.8625\n",
            "Epoch 10/100\n",
            "1/1 [==============================] - 0s 6ms/step - loss: 4.9541 - mean_absolute_error: 4.9541\n",
            "Epoch 11/100\n",
            "1/1 [==============================] - 0s 11ms/step - loss: 4.6643 - mean_absolute_error: 4.6643\n",
            "Epoch 12/100\n",
            "1/1 [==============================] - 0s 11ms/step - loss: 4.0407 - mean_absolute_error: 4.0407\n",
            "Epoch 13/100\n",
            "1/1 [==============================] - 0s 11ms/step - loss: 3.3981 - mean_absolute_error: 3.3981\n",
            "Epoch 14/100\n",
            "1/1 [==============================] - 0s 18ms/step - loss: 3.1059 - mean_absolute_error: 3.1059\n",
            "Epoch 15/100\n",
            "1/1 [==============================] - 0s 9ms/step - loss: 3.2716 - mean_absolute_error: 3.2716\n",
            "Epoch 16/100\n",
            "1/1 [==============================] - 0s 11ms/step - loss: 3.6303 - mean_absolute_error: 3.6303\n",
            "Epoch 17/100\n",
            "1/1 [==============================] - 0s 11ms/step - loss: 3.6042 - mean_absolute_error: 3.6042\n",
            "Epoch 18/100\n",
            "1/1 [==============================] - 0s 9ms/step - loss: 3.2286 - mean_absolute_error: 3.2286\n",
            "Epoch 19/100\n",
            "1/1 [==============================] - 0s 8ms/step - loss: 2.8943 - mean_absolute_error: 2.8943\n",
            "Epoch 20/100\n",
            "1/1 [==============================] - 0s 10ms/step - loss: 2.8726 - mean_absolute_error: 2.8726\n",
            "Epoch 21/100\n",
            "1/1 [==============================] - 0s 7ms/step - loss: 2.9518 - mean_absolute_error: 2.9518\n",
            "Epoch 22/100\n",
            "1/1 [==============================] - 0s 9ms/step - loss: 3.1742 - mean_absolute_error: 3.1742\n",
            "Epoch 23/100\n",
            "1/1 [==============================] - 0s 16ms/step - loss: 3.1799 - mean_absolute_error: 3.1799\n",
            "Epoch 24/100\n",
            "1/1 [==============================] - 0s 17ms/step - loss: 2.9627 - mean_absolute_error: 2.9627\n",
            "Epoch 25/100\n",
            "1/1 [==============================] - 0s 20ms/step - loss: 2.6672 - mean_absolute_error: 2.6672\n",
            "Epoch 26/100\n",
            "1/1 [==============================] - 0s 10ms/step - loss: 2.4952 - mean_absolute_error: 2.4952\n",
            "Epoch 27/100\n",
            "1/1 [==============================] - 0s 14ms/step - loss: 2.4367 - mean_absolute_error: 2.4367\n",
            "Epoch 28/100\n",
            "1/1 [==============================] - 0s 10ms/step - loss: 2.5109 - mean_absolute_error: 2.5109\n",
            "Epoch 29/100\n",
            "1/1 [==============================] - 0s 22ms/step - loss: 2.4976 - mean_absolute_error: 2.4976\n",
            "Epoch 30/100\n",
            "1/1 [==============================] - 0s 8ms/step - loss: 2.3332 - mean_absolute_error: 2.3332\n",
            "Epoch 31/100\n",
            "1/1 [==============================] - 0s 10ms/step - loss: 2.1415 - mean_absolute_error: 2.1415\n",
            "Epoch 32/100\n",
            "1/1 [==============================] - 0s 11ms/step - loss: 2.0949 - mean_absolute_error: 2.0949\n",
            "Epoch 33/100\n",
            "1/1 [==============================] - 0s 8ms/step - loss: 2.0875 - mean_absolute_error: 2.0875\n",
            "Epoch 34/100\n",
            "1/1 [==============================] - 0s 13ms/step - loss: 2.1472 - mean_absolute_error: 2.1472\n",
            "Epoch 35/100\n",
            "1/1 [==============================] - 0s 11ms/step - loss: 2.0302 - mean_absolute_error: 2.0302\n",
            "Epoch 36/100\n",
            "1/1 [==============================] - 0s 17ms/step - loss: 1.7772 - mean_absolute_error: 1.7772\n",
            "Epoch 37/100\n",
            "1/1 [==============================] - 0s 12ms/step - loss: 1.5847 - mean_absolute_error: 1.5847\n",
            "Epoch 38/100\n",
            "1/1 [==============================] - 0s 16ms/step - loss: 1.4882 - mean_absolute_error: 1.4882\n",
            "Epoch 39/100\n",
            "1/1 [==============================] - 0s 13ms/step - loss: 1.3999 - mean_absolute_error: 1.3999\n",
            "Epoch 40/100\n",
            "1/1 [==============================] - 0s 17ms/step - loss: 1.1979 - mean_absolute_error: 1.1979\n",
            "Epoch 41/100\n",
            "1/1 [==============================] - 0s 9ms/step - loss: 1.1124 - mean_absolute_error: 1.1124\n",
            "Epoch 42/100\n",
            "1/1 [==============================] - 0s 12ms/step - loss: 1.1793 - mean_absolute_error: 1.1793\n",
            "Epoch 43/100\n",
            "1/1 [==============================] - 0s 6ms/step - loss: 0.9542 - mean_absolute_error: 0.9542\n",
            "Epoch 44/100\n",
            "1/1 [==============================] - 0s 9ms/step - loss: 0.5831 - mean_absolute_error: 0.5831\n",
            "Epoch 45/100\n",
            "1/1 [==============================] - 0s 11ms/step - loss: 0.8615 - mean_absolute_error: 0.8615\n",
            "Epoch 46/100\n",
            "1/1 [==============================] - 0s 13ms/step - loss: 0.5049 - mean_absolute_error: 0.5049\n",
            "Epoch 47/100\n",
            "1/1 [==============================] - 0s 13ms/step - loss: 0.6119 - mean_absolute_error: 0.6119\n",
            "Epoch 48/100\n",
            "1/1 [==============================] - 0s 9ms/step - loss: 0.7226 - mean_absolute_error: 0.7226\n",
            "Epoch 49/100\n",
            "1/1 [==============================] - 0s 12ms/step - loss: 0.3135 - mean_absolute_error: 0.3135\n",
            "Epoch 50/100\n",
            "1/1 [==============================] - 0s 8ms/step - loss: 0.4653 - mean_absolute_error: 0.4653\n",
            "Epoch 51/100\n",
            "1/1 [==============================] - 0s 10ms/step - loss: 0.4511 - mean_absolute_error: 0.4511\n",
            "Epoch 52/100\n",
            "1/1 [==============================] - 0s 12ms/step - loss: 0.6562 - mean_absolute_error: 0.6562\n",
            "Epoch 53/100\n",
            "1/1 [==============================] - 0s 17ms/step - loss: 0.4015 - mean_absolute_error: 0.4015\n",
            "Epoch 54/100\n",
            "1/1 [==============================] - 0s 10ms/step - loss: 0.6806 - mean_absolute_error: 0.6806\n",
            "Epoch 55/100\n",
            "1/1 [==============================] - 0s 10ms/step - loss: 0.8888 - mean_absolute_error: 0.8888\n",
            "Epoch 56/100\n",
            "1/1 [==============================] - 0s 7ms/step - loss: 0.5811 - mean_absolute_error: 0.5811\n",
            "Epoch 57/100\n",
            "1/1 [==============================] - 0s 10ms/step - loss: 0.3776 - mean_absolute_error: 0.3776\n",
            "Epoch 58/100\n",
            "1/1 [==============================] - 0s 8ms/step - loss: 0.4859 - mean_absolute_error: 0.4859\n",
            "Epoch 59/100\n",
            "1/1 [==============================] - 0s 9ms/step - loss: 0.3122 - mean_absolute_error: 0.3122\n",
            "Epoch 60/100\n",
            "1/1 [==============================] - 0s 12ms/step - loss: 0.1913 - mean_absolute_error: 0.1913\n",
            "Epoch 61/100\n",
            "1/1 [==============================] - 0s 9ms/step - loss: 0.2047 - mean_absolute_error: 0.2047\n",
            "Epoch 62/100\n",
            "1/1 [==============================] - 0s 13ms/step - loss: 0.1862 - mean_absolute_error: 0.1862\n",
            "Epoch 63/100\n",
            "1/1 [==============================] - 0s 12ms/step - loss: 0.1936 - mean_absolute_error: 0.1936\n",
            "Epoch 64/100\n",
            "1/1 [==============================] - 0s 14ms/step - loss: 0.3422 - mean_absolute_error: 0.3422\n",
            "Epoch 65/100\n",
            "1/1 [==============================] - 0s 10ms/step - loss: 0.2811 - mean_absolute_error: 0.2811\n",
            "Epoch 66/100\n",
            "1/1 [==============================] - 0s 13ms/step - loss: 0.2509 - mean_absolute_error: 0.2509\n",
            "Epoch 67/100\n",
            "1/1 [==============================] - 0s 16ms/step - loss: 0.2924 - mean_absolute_error: 0.2924\n",
            "Epoch 68/100\n",
            "1/1 [==============================] - 0s 8ms/step - loss: 0.2361 - mean_absolute_error: 0.2361\n",
            "Epoch 69/100\n",
            "1/1 [==============================] - 0s 11ms/step - loss: 0.3547 - mean_absolute_error: 0.3547\n",
            "Epoch 70/100\n",
            "1/1 [==============================] - 0s 10ms/step - loss: 0.1696 - mean_absolute_error: 0.1696\n",
            "Epoch 71/100\n",
            "1/1 [==============================] - 0s 8ms/step - loss: 0.1066 - mean_absolute_error: 0.1066\n",
            "Epoch 72/100\n",
            "1/1 [==============================] - 0s 9ms/step - loss: 0.0900 - mean_absolute_error: 0.0900\n",
            "Epoch 73/100\n",
            "1/1 [==============================] - 0s 12ms/step - loss: 0.1554 - mean_absolute_error: 0.1554\n",
            "Epoch 74/100\n",
            "1/1 [==============================] - 0s 12ms/step - loss: 0.2131 - mean_absolute_error: 0.2131\n",
            "Epoch 75/100\n",
            "1/1 [==============================] - 0s 10ms/step - loss: 0.0619 - mean_absolute_error: 0.0619\n",
            "Epoch 76/100\n",
            "1/1 [==============================] - 0s 18ms/step - loss: 0.1088 - mean_absolute_error: 0.1088\n",
            "Epoch 77/100\n",
            "1/1 [==============================] - 0s 11ms/step - loss: 0.3448 - mean_absolute_error: 0.3448\n",
            "Epoch 78/100\n",
            "1/1 [==============================] - 0s 12ms/step - loss: 0.2306 - mean_absolute_error: 0.2306\n",
            "Epoch 79/100\n",
            "1/1 [==============================] - 0s 8ms/step - loss: 0.5593 - mean_absolute_error: 0.5593\n",
            "Epoch 80/100\n",
            "1/1 [==============================] - 0s 6ms/step - loss: 0.6032 - mean_absolute_error: 0.6032\n",
            "Epoch 81/100\n",
            "1/1 [==============================] - 0s 8ms/step - loss: 0.1764 - mean_absolute_error: 0.1764\n",
            "Epoch 82/100\n",
            "1/1 [==============================] - 0s 19ms/step - loss: 0.6651 - mean_absolute_error: 0.6651\n",
            "Epoch 83/100\n",
            "1/1 [==============================] - 0s 8ms/step - loss: 0.8413 - mean_absolute_error: 0.8413\n",
            "Epoch 84/100\n",
            "1/1 [==============================] - 0s 10ms/step - loss: 0.4555 - mean_absolute_error: 0.4555\n",
            "Epoch 85/100\n",
            "1/1 [==============================] - 0s 11ms/step - loss: 0.3375 - mean_absolute_error: 0.3375\n",
            "Epoch 86/100\n",
            "1/1 [==============================] - 0s 8ms/step - loss: 0.5420 - mean_absolute_error: 0.5420\n",
            "Epoch 87/100\n",
            "1/1 [==============================] - 0s 11ms/step - loss: 0.2511 - mean_absolute_error: 0.2511\n",
            "Epoch 88/100\n",
            "1/1 [==============================] - 0s 12ms/step - loss: 0.4978 - mean_absolute_error: 0.4978\n",
            "Epoch 89/100\n",
            "1/1 [==============================] - 0s 12ms/step - loss: 0.6723 - mean_absolute_error: 0.6723\n",
            "Epoch 90/100\n",
            "1/1 [==============================] - 0s 26ms/step - loss: 0.3261 - mean_absolute_error: 0.3261\n",
            "Epoch 91/100\n",
            "1/1 [==============================] - 0s 15ms/step - loss: 0.4505 - mean_absolute_error: 0.4505\n",
            "Epoch 92/100\n",
            "1/1 [==============================] - 0s 10ms/step - loss: 0.6822 - mean_absolute_error: 0.6822\n",
            "Epoch 93/100\n",
            "1/1 [==============================] - 0s 12ms/step - loss: 0.4687 - mean_absolute_error: 0.4687\n",
            "Epoch 94/100\n",
            "1/1 [==============================] - 0s 9ms/step - loss: 0.1535 - mean_absolute_error: 0.1535\n",
            "Epoch 95/100\n",
            "1/1 [==============================] - 0s 20ms/step - loss: 0.2560 - mean_absolute_error: 0.2560\n",
            "Epoch 96/100\n",
            "1/1 [==============================] - 0s 15ms/step - loss: 0.1029 - mean_absolute_error: 0.1029\n",
            "Epoch 97/100\n",
            "1/1 [==============================] - 0s 13ms/step - loss: 0.1664 - mean_absolute_error: 0.1664\n",
            "Epoch 98/100\n",
            "1/1 [==============================] - 0s 14ms/step - loss: 0.2133 - mean_absolute_error: 0.2133\n",
            "Epoch 99/100\n",
            "1/1 [==============================] - 0s 6ms/step - loss: 0.1084 - mean_absolute_error: 0.1084\n",
            "Epoch 100/100\n",
            "1/1 [==============================] - 0s 6ms/step - loss: 0.3915 - mean_absolute_error: 0.3915\n"
          ]
        },
        {
          "output_type": "execute_result",
          "data": {
            "text/plain": [
              "<keras.callbacks.History at 0x7f06cb885350>"
            ]
          },
          "metadata": {},
          "execution_count": 9
        }
      ]
    },
    {
      "cell_type": "code",
      "metadata": {
        "colab": {
          "base_uri": "https://localhost:8080/"
        },
        "id": "HSGkEGRbN7ri",
        "outputId": "cf366ff7-e49c-4476-8415-ddb39b10704b"
      },
      "source": [
        "#Evaluate the model\n",
        "model2.evaluate(tf.constant([27]),tf.constant([37]))"
      ],
      "execution_count": null,
      "outputs": [
        {
          "output_type": "stream",
          "name": "stdout",
          "text": [
            "1/1 [==============================] - 0s 123ms/step - loss: 0.1621 - mean_absolute_error: 0.1621\n"
          ]
        },
        {
          "output_type": "execute_result",
          "data": {
            "text/plain": [
              "[0.16211700439453125, 0.16211700439453125]"
            ]
          },
          "metadata": {},
          "execution_count": 10
        }
      ]
    },
    {
      "cell_type": "code",
      "metadata": {
        "colab": {
          "base_uri": "https://localhost:8080/"
        },
        "id": "kgLvN-n0QSGJ",
        "outputId": "de194301-5ea4-4bec-fb08-9dee5935a104"
      },
      "source": [
        "#test the model\n",
        "y_pred = model2.predict(tf.constant([17]))\n",
        "y_pred"
      ],
      "execution_count": null,
      "outputs": [
        {
          "output_type": "execute_result",
          "data": {
            "text/plain": [
              "array([[26.310211]], dtype=float32)"
            ]
          },
          "metadata": {},
          "execution_count": 11
        }
      ]
    },
    {
      "cell_type": "markdown",
      "metadata": {
        "id": "kMfuP8CMQq-U"
      },
      "source": [
        "Linear regression on a larger dataset"
      ]
    },
    {
      "cell_type": "code",
      "metadata": {
        "colab": {
          "base_uri": "https://localhost:8080/"
        },
        "id": "OfEq6AHoLe2j",
        "outputId": "1c9c93d8-6e20-42dd-ddae-1131a8a6c0cb"
      },
      "source": [
        "#Make a larger dataset using range function\n",
        "X = tf.range(start=-100, limit=100, delta= 4)\n",
        "y = X + 10\n",
        "X, y"
      ],
      "execution_count": null,
      "outputs": [
        {
          "output_type": "execute_result",
          "data": {
            "text/plain": [
              "(<tf.Tensor: shape=(50,), dtype=int32, numpy=\n",
              " array([-100,  -96,  -92,  -88,  -84,  -80,  -76,  -72,  -68,  -64,  -60,\n",
              "         -56,  -52,  -48,  -44,  -40,  -36,  -32,  -28,  -24,  -20,  -16,\n",
              "         -12,   -8,   -4,    0,    4,    8,   12,   16,   20,   24,   28,\n",
              "          32,   36,   40,   44,   48,   52,   56,   60,   64,   68,   72,\n",
              "          76,   80,   84,   88,   92,   96], dtype=int32)>,\n",
              " <tf.Tensor: shape=(50,), dtype=int32, numpy=\n",
              " array([-90, -86, -82, -78, -74, -70, -66, -62, -58, -54, -50, -46, -42,\n",
              "        -38, -34, -30, -26, -22, -18, -14, -10,  -6,  -2,   2,   6,  10,\n",
              "         14,  18,  22,  26,  30,  34,  38,  42,  46,  50,  54,  58,  62,\n",
              "         66,  70,  74,  78,  82,  86,  90,  94,  98, 102, 106], dtype=int32)>)"
            ]
          },
          "metadata": {},
          "execution_count": 12
        }
      ]
    },
    {
      "cell_type": "code",
      "metadata": {
        "colab": {
          "base_uri": "https://localhost:8080/",
          "height": 283
        },
        "id": "5QUiipXlL1oH",
        "outputId": "f174aa41-1dd2-4478-a2ca-c571182e692f"
      },
      "source": [
        "plt.scatter(X, y)"
      ],
      "execution_count": null,
      "outputs": [
        {
          "output_type": "execute_result",
          "data": {
            "text/plain": [
              "<matplotlib.collections.PathCollection at 0x7f06cd0a2f10>"
            ]
          },
          "metadata": {},
          "execution_count": 13
        },
        {
          "output_type": "display_data",
          "data": {
            "image/png": "[encoded data removed]",
            "text/plain": [
              "<Figure size 432x288 with 1 Axes>"
            ]
          },
          "metadata": {
            "needs_background": "light"
          }
        }
      ]
    },
    {
      "cell_type": "code",
      "metadata": {
        "colab": {
          "base_uri": "https://localhost:8080/"
        },
        "id": "YMGjnwUlL5ku",
        "outputId": "4b1525b6-f2ae-4720-a001-cd64a30b0c52"
      },
      "source": [
        "#Now divide data into three sets, training, validation and testing sets\n",
        "#Training 70-80% , Validation 10-15%, Tetsing 10-15%\n",
        "X_train = X[:40]\n",
        "X_test = X[40:]\n",
        "y_train = y[:40]\n",
        "y_test = y[40:]\n",
        "\n",
        "len(X_train), len(y_train), len(X_test), len(y_test)"
      ],
      "execution_count": null,
      "outputs": [
        {
          "output_type": "execute_result",
          "data": {
            "text/plain": [
              "(40, 40, 10, 10)"
            ]
          },
          "metadata": {},
          "execution_count": 14
        }
      ]
    },
    {
      "cell_type": "code",
      "metadata": {
        "colab": {
          "base_uri": "https://localhost:8080/",
          "height": 445
        },
        "id": "b5B7UubRNZSw",
        "outputId": "d809c2b7-b149-4981-b8a1-89d96109866d"
      },
      "source": [
        "#Now plot training and testing samples\n",
        "plt.figure(figsize=(10,7))\n",
        "plt.scatter(X_train, y_train, c=\"b\", label = \"Training data\")\n",
        "plt.scatter(X_test, y_test, c=\"g\", label = \"Testing data\")\n",
        "plt.legend()"
      ],
      "execution_count": null,
      "outputs": [
        {
          "output_type": "execute_result",
          "data": {
            "text/plain": [
              "<matplotlib.legend.Legend at 0x7f06cb86ded0>"
            ]
          },
          "metadata": {},
          "execution_count": 15
        },
        {
          "output_type": "display_data",
          "data": {
            "image/png": "[encoded data removed]",
            "text/plain": [
              "<Figure size 720x504 with 1 Axes>"
            ]
          },
          "metadata": {
            "needs_background": "light"
          }
        }
      ]
    },
    {
      "cell_type": "code",
      "metadata": {
        "colab": {
          "base_uri": "https://localhost:8080/"
        },
        "id": "GV0Om_0uOXP4",
        "outputId": "72b2ac1e-9ac5-4430-e196-e3009505db05"
      },
      "source": [
        "#create a model\n",
        "tf.random.set_seed(42)\n",
        "\n",
        "model = tf.keras.models.Sequential([\n",
        "                                    tf.keras.layers.Dense(units = 10, input_shape = [1], name=\"input_layer\"),\n",
        "                                    tf.keras.layers.Dense(units=1, name=\"output_layer\")\n",
        "], name=\"Linear_Regression_model\")\n",
        "\n",
        "#Compile \n",
        "model.compile(optimizer=tf.keras.optimizers.SGD(),\n",
        "              loss = tf.keras.losses.mae,\n",
        "              metrics = tf.keras.metrics.mae)\n",
        "\n",
        "#Fit the model\n",
        "#verbose=0 makes the fit function not print the taining steps every epoch\n",
        "model.fit(x=X_train, y=y_train, epochs=100, verbose=0)"
      ],
      "execution_count": null,
      "outputs": [
        {
          "output_type": "execute_result",
          "data": {
            "text/plain": [
              "<keras.callbacks.History at 0x7f06ccda0250>"
            ]
          },
          "metadata": {},
          "execution_count": 16
        }
      ]
    },
    {
      "cell_type": "code",
      "metadata": {
        "colab": {
          "base_uri": "https://localhost:8080/"
        },
        "id": "_11MA6t8P-rj",
        "outputId": "c9d4c85b-b276-4716-fe9e-7360633d4ba0"
      },
      "source": [
        "#Visualise the model\n",
        "model.summary()"
      ],
      "execution_count": null,
      "outputs": [
        {
          "output_type": "stream",
          "name": "stdout",
          "text": [
            "Model: \"Linear_Regression_model\"\n",
            "_________________________________________________________________\n",
            "Layer (type)                 Output Shape              Param #   \n",
            "=================================================================\n",
            "input_layer (Dense)          (None, 10)                20        \n",
            "_________________________________________________________________\n",
            "output_layer (Dense)         (None, 1)                 11        \n",
            "=================================================================\n",
            "Total params: 31\n",
            "Trainable params: 31\n",
            "Non-trainable params: 0\n",
            "_________________________________________________________________\n"
          ]
        }
      ]
    },
    {
      "cell_type": "code",
      "metadata": {
        "colab": {
          "base_uri": "https://localhost:8080/",
          "height": 312
        },
        "id": "WusjqY0nRDSs",
        "outputId": "85c80a92-7d09-4d8e-c59d-c359e903983f"
      },
      "source": [
        "#plot model\n",
        "from tensorflow.keras.utils import plot_model\n",
        "\n",
        "plot_model(model = model, show_shapes=True)"
      ],
      "execution_count": null,
      "outputs": [
        {
          "output_type": "execute_result",
          "data": {
            "image/png": "[encoded data removed]",
            "text/plain": [
              "<IPython.core.display.Image object>"
            ]
          },
          "metadata": {},
          "execution_count": 18
        }
      ]
    },
    {
      "cell_type": "code",
      "metadata": {
        "colab": {
          "base_uri": "https://localhost:8080/"
        },
        "id": "wRV6N3RVTnoY",
        "outputId": "a02c68a0-e969-42a4-d9d5-e2052f387005"
      },
      "source": [
        "#visualising the models predictions\n",
        "y_pred = model.predict(X_test)\n",
        "y_pred"
      ],
      "execution_count": null,
      "outputs": [
        {
          "output_type": "execute_result",
          "data": {
            "text/plain": [
              "array([[ 70.55221 ],\n",
              "       [ 75.13992 ],\n",
              "       [ 79.72765 ],\n",
              "       [ 84.31538 ],\n",
              "       [ 88.9031  ],\n",
              "       [ 93.49082 ],\n",
              "       [ 98.07855 ],\n",
              "       [102.666275],\n",
              "       [107.254005],\n",
              "       [111.84173 ]], dtype=float32)"
            ]
          },
          "metadata": {},
          "execution_count": 19
        }
      ]
    },
    {
      "cell_type": "code",
      "metadata": {
        "id": "pwc_hasyVmxJ"
      },
      "source": [
        "#Lets create a plotting functions\n",
        "def plot_predictions(train_data = X_train,\n",
        "                     train_labels = y_train,\n",
        "                     test_data = X_test,\n",
        "                     test_lables = y_test,\n",
        "                     predictions = y_pred):\n",
        "  plt.figure(figsize=(10,7))\n",
        "  plt.scatter(train_data, train_labels, c=\"b\", label = \"Training_data\")\n",
        "  plt.scatter(test_data, test_lables, c=\"g\", label = \"Testing_data\")\n",
        "  plt.scatter(test_data, predictions, c=\"r\", label = \"Predictions\")\n",
        "  plt.legend()"
      ],
      "execution_count": null,
      "outputs": []
    },
    {
      "cell_type": "code",
      "metadata": {
        "colab": {
          "base_uri": "https://localhost:8080/",
          "height": 428
        },
        "id": "TzwaxhqYW9Sj",
        "outputId": "b3fba068-c7ad-440f-d1e5-6a42827ef3cc"
      },
      "source": [
        "plot_predictions(train_data=X_train, \n",
        "                 train_labels=y_train,\n",
        "                 test_data=X_test,\n",
        "                 test_lables=y_test,\n",
        "                 predictions=y_pred)"
      ],
      "execution_count": null,
      "outputs": [
        {
          "output_type": "display_data",
          "data": {
            "image/png": "[encoded data removed]",
            "text/plain": [
              "<Figure size 720x504 with 1 Axes>"
            ]
          },
          "metadata": {
            "needs_background": "light"
          }
        }
      ]
    },
    {
      "cell_type": "code",
      "metadata": {
        "id": "WrzoLhd0XD4e"
      },
      "source": [
        "#Make some functions for mae and mse to use going forward\n",
        "def mae(y_true, y_pred):\n",
        "  return tf.keras.metrics.mean_absolute_error(y_true=y_true, y_pred=tf.squeeze(y_pred))\n",
        "\n",
        "def mse(y_true, y_pred):\n",
        "  return tf.keras.metrics.mean_squared_error(y_true=y_true, y_pred=tf.squeeze(y_pred))"
      ],
      "execution_count": null,
      "outputs": []
    },
    {
      "cell_type": "code",
      "metadata": {
        "colab": {
          "base_uri": "https://localhost:8080/"
        },
        "id": "wEJXr9lf05KP",
        "outputId": "b4f1c2b6-ea1c-48cb-bbef-10a70d2e6aee"
      },
      "source": [
        "mae_error = mae(y_true=y_test, y_pred=y_pred)\n",
        "mse_error = mse(y_true=y_test, y_pred=y_pred)\n",
        "mae_error, mse_error"
      ],
      "execution_count": null,
      "outputs": [
        {
          "output_type": "execute_result",
          "data": {
            "text/plain": [
              "(<tf.Tensor: shape=(), dtype=float32, numpy=3.1969643>,\n",
              " <tf.Tensor: shape=(), dtype=float32, numpy=13.0703>)"
            ]
          },
          "metadata": {},
          "execution_count": 23
        }
      ]
    },
    {
      "cell_type": "markdown",
      "metadata": {
        "id": "jr4gKt3bRYab"
      },
      "source": [
        "Now create a pandas dataframe to visualise results of multiple models at once"
      ]
    },
    {
      "cell_type": "code",
      "metadata": {
        "colab": {
          "base_uri": "https://localhost:8080/",
          "height": 111
        },
        "id": "r6243DwdTU6J",
        "outputId": "8500799a-38aa-4e0a-a669-68d35ac72373"
      },
      "source": [
        "import pandas as pd\n",
        "\n",
        "model_results = [[\"model_1\", mae_error.numpy(), mse_error.numpy()],\n",
        "                 [\"model_1\", mae_error.numpy(), mse_error.numpy()]]\n",
        "\n",
        "all_results = pd.DataFrame(data=model_results, columns=[\"model_name\", \"mae\", \"mse\"])\n",
        "all_results"
      ],
      "execution_count": null,
      "outputs": [
        {
          "output_type": "execute_result",
          "data": {
            "text/html": [
              "<div>\n",
              "<style scoped>\n",
              "    .dataframe tbody tr th:only-of-type {\n",
              "        vertical-align: middle;\n",
              "    }\n",
              "\n",
              "    .dataframe tbody tr th {\n",
              "        vertical-align: top;\n",
              "    }\n",
              "\n",
              "    .dataframe thead th {\n",
              "        text-align: right;\n",
              "    }\n",
              "</style>\n",
              "<table border=\"1\" class=\"dataframe\">\n",
              "  <thead>\n",
              "    <tr style=\"text-align: right;\">\n",
              "      <th></th>\n",
              "      <th>model_name</th>\n",
              "      <th>mae</th>\n",
              "      <th>mse</th>\n",
              "    </tr>\n",
              "  </thead>\n",
              "  <tbody>\n",
              "    <tr>\n",
              "      <th>0</th>\n",
              "      <td>model_1</td>\n",
              "      <td>3.196964</td>\n",
              "      <td>13.0703</td>\n",
              "    </tr>\n",
              "    <tr>\n",
              "      <th>1</th>\n",
              "      <td>model_1</td>\n",
              "      <td>3.196964</td>\n",
              "      <td>13.0703</td>\n",
              "    </tr>\n",
              "  </tbody>\n",
              "</table>\n",
              "</div>"
            ],
            "text/plain": [
              "  model_name       mae      mse\n",
              "0    model_1  3.196964  13.0703\n",
              "1    model_1  3.196964  13.0703"
            ]
          },
          "metadata": {},
          "execution_count": 24
        }
      ]
    },
    {
      "cell_type": "markdown",
      "metadata": {
        "id": "1RP6BM78TYpY"
      },
      "source": [
        "Let's save the trained model to use it later"
      ]
    },
    {
      "cell_type": "markdown",
      "metadata": {
        "id": "Fm45CgPNV7p9"
      },
      "source": [
        "**There are two ways we can seave the model**\n",
        "1] The SavedModel format\n",
        "2] The HDF5 format"
      ]
    },
    {
      "cell_type": "code",
      "metadata": {
        "colab": {
          "base_uri": "https://localhost:8080/"
        },
        "id": "8PABlmJaWpW_",
        "outputId": "f1fa50a1-b1b9-4a6a-a358-0bae397c5f4e"
      },
      "source": [
        "model.save(\"best_LR_model_firstway\")"
      ],
      "execution_count": null,
      "outputs": [
        {
          "output_type": "stream",
          "name": "stdout",
          "text": [
            "INFO:tensorflow:Assets written to: best_LR_model_firstway/assets\n"
          ]
        }
      ]
    },
    {
      "cell_type": "code",
      "metadata": {
        "id": "CypUpgk0XHrd"
      },
      "source": [
        "#HDF5 is used to save bigger and complex model as it has the capability to hold large amounts of data and also because HDF5 format is more universal\n",
        "model.save(\"best_LR_model_secondway.h5\")"
      ],
      "execution_count": null,
      "outputs": []
    },
    {
      "cell_type": "markdown",
      "metadata": {
        "id": "Fa-rS9EKYlen"
      },
      "source": []
    },
    {
      "cell_type": "markdown",
      "metadata": {
        "id": "-vCQWp1VX1ND"
      },
      "source": [
        "Now lets reload the saved model and use it again"
      ]
    },
    {
      "cell_type": "code",
      "metadata": {
        "colab": {
          "base_uri": "https://localhost:8080/"
        },
        "id": "e4qW9U8QYApl",
        "outputId": "8307ac26-66f5-4e2b-c317-91e702758926"
      },
      "source": [
        "#Loading the saved model\n",
        "new_model = tf.keras.models.load_model(\"/content/best_LR_model_secondway.h5\")\n",
        "\n",
        "new_model.summary()"
      ],
      "execution_count": null,
      "outputs": [
        {
          "output_type": "stream",
          "name": "stdout",
          "text": [
            "Model: \"Linear_Regression_model\"\n",
            "_________________________________________________________________\n",
            "Layer (type)                 Output Shape              Param #   \n",
            "=================================================================\n",
            "input_layer (Dense)          (None, 10)                20        \n",
            "_________________________________________________________________\n",
            "output_layer (Dense)         (None, 1)                 11        \n",
            "=================================================================\n",
            "Total params: 31\n",
            "Trainable params: 31\n",
            "Non-trainable params: 0\n",
            "_________________________________________________________________\n"
          ]
        }
      ]
    },
    {
      "cell_type": "code",
      "metadata": {
        "colab": {
          "base_uri": "https://localhost:8080/"
        },
        "id": "EDLVg_pDYgR0",
        "outputId": "f38b1fcc-07c0-42b4-e147-6c0f63a59e5f"
      },
      "source": [
        "new_model.evaluate(x=X_test, y=y_test)"
      ],
      "execution_count": null,
      "outputs": [
        {
          "output_type": "stream",
          "name": "stdout",
          "text": [
            "1/1 [==============================] - 0s 122ms/step - loss: 3.1970 - mean_absolute_error: 3.1970\n"
          ]
        },
        {
          "output_type": "execute_result",
          "data": {
            "text/plain": [
              "[3.1969642639160156, 3.1969642639160156]"
            ]
          },
          "metadata": {},
          "execution_count": 28
        }
      ]
    },
    {
      "cell_type": "code",
      "metadata": {
        "id": "CfBZOxO7Yu7Y"
      },
      "source": [
        "y_pred = new_model.predict(x=X_test)"
      ],
      "execution_count": null,
      "outputs": []
    },
    {
      "cell_type": "code",
      "metadata": {
        "colab": {
          "base_uri": "https://localhost:8080/"
        },
        "id": "9QAWKbHxZLpg",
        "outputId": "9d140bf1-8136-45d0-968f-dd96e44fa544"
      },
      "source": [
        "mae(y_true=y_test, y_pred=y_pred)"
      ],
      "execution_count": null,
      "outputs": [
        {
          "output_type": "execute_result",
          "data": {
            "text/plain": [
              "<tf.Tensor: shape=(), dtype=float32, numpy=3.1969643>"
            ]
          },
          "metadata": {},
          "execution_count": 30
        }
      ]
    },
    {
      "cell_type": "markdown",
      "metadata": {
        "id": "bI_N_1SjcDCq"
      },
      "source": [
        "How to download a model or any other file from google colab"
      ]
    },
    {
      "cell_type": "code",
      "metadata": {
        "id": "XVVY2WGqBmNH"
      },
      "source": [
        "from google.colab import files\n",
        "#files.download(\"/content/best_LR_model_secondway.h5\")"
      ],
      "execution_count": null,
      "outputs": []
    },
    {
      "cell_type": "markdown",
      "metadata": {
        "id": "NBlj_Q3_B-Nt"
      },
      "source": [
        " **Now its time to work on a larger problem**"
      ]
    },
    {
      "cell_type": "code",
      "metadata": {
        "id": "6jz8VRGZDH2H"
      },
      "source": [
        "import tensorflow as tf\n",
        "import pandas as pd"
      ],
      "execution_count": null,
      "outputs": []
    },
    {
      "cell_type": "code",
      "metadata": {
        "colab": {
          "base_uri": "https://localhost:8080/",
          "height": 421
        },
        "id": "QCZWBL3DELh5",
        "outputId": "a13bef77-b63d-4a7d-f961-673c2ce5c349"
      },
      "source": [
        "insurance = pd.read_csv(\"https://raw.githubusercontent.com/stedy/Machine-Learning-with-R-datasets/master/insurance.csv\")\n",
        "insurance"
      ],
      "execution_count": null,
      "outputs": [
        {
          "output_type": "execute_result",
          "data": {
            "text/html": [
              "<div>\n",
              "<style scoped>\n",
              "    .dataframe tbody tr th:only-of-type {\n",
              "        vertical-align: middle;\n",
              "    }\n",
              "\n",
              "    .dataframe tbody tr th {\n",
              "        vertical-align: top;\n",
              "    }\n",
              "\n",
              "    .dataframe thead th {\n",
              "        text-align: right;\n",
              "    }\n",
              "</style>\n",
              "<table border=\"1\" class=\"dataframe\">\n",
              "  <thead>\n",
              "    <tr style=\"text-align: right;\">\n",
              "      <th></th>\n",
              "      <th>age</th>\n",
              "      <th>sex</th>\n",
              "      <th>bmi</th>\n",
              "      <th>children</th>\n",
              "      <th>smoker</th>\n",
              "      <th>region</th>\n",
              "      <th>charges</th>\n",
              "    </tr>\n",
              "  </thead>\n",
              "  <tbody>\n",
              "    <tr>\n",
              "      <th>0</th>\n",
              "      <td>19</td>\n",
              "      <td>female</td>\n",
              "      <td>27.900</td>\n",
              "      <td>0</td>\n",
              "      <td>yes</td>\n",
              "      <td>southwest</td>\n",
              "      <td>16884.92400</td>\n",
              "    </tr>\n",
              "    <tr>\n",
              "      <th>1</th>\n",
              "      <td>18</td>\n",
              "      <td>male</td>\n",
              "      <td>33.770</td>\n",
              "      <td>1</td>\n",
              "      <td>no</td>\n",
              "      <td>southeast</td>\n",
              "      <td>1725.55230</td>\n",
              "    </tr>\n",
              "    <tr>\n",
              "      <th>2</th>\n",
              "      <td>28</td>\n",
              "      <td>male</td>\n",
              "      <td>33.000</td>\n",
              "      <td>3</td>\n",
              "      <td>no</td>\n",
              "      <td>southeast</td>\n",
              "      <td>4449.46200</td>\n",
              "    </tr>\n",
              "    <tr>\n",
              "      <th>3</th>\n",
              "      <td>33</td>\n",
              "      <td>male</td>\n",
              "      <td>22.705</td>\n",
              "      <td>0</td>\n",
              "      <td>no</td>\n",
              "      <td>northwest</td>\n",
              "      <td>21984.47061</td>\n",
              "    </tr>\n",
              "    <tr>\n",
              "      <th>4</th>\n",
              "      <td>32</td>\n",
              "      <td>male</td>\n",
              "      <td>28.880</td>\n",
              "      <td>0</td>\n",
              "      <td>no</td>\n",
              "      <td>northwest</td>\n",
              "      <td>3866.85520</td>\n",
              "    </tr>\n",
              "    <tr>\n",
              "      <th>...</th>\n",
              "      <td>...</td>\n",
              "      <td>...</td>\n",
              "      <td>...</td>\n",
              "      <td>...</td>\n",
              "      <td>...</td>\n",
              "      <td>...</td>\n",
              "      <td>...</td>\n",
              "    </tr>\n",
              "    <tr>\n",
              "      <th>1333</th>\n",
              "      <td>50</td>\n",
              "      <td>male</td>\n",
              "      <td>30.970</td>\n",
              "      <td>3</td>\n",
              "      <td>no</td>\n",
              "      <td>northwest</td>\n",
              "      <td>10600.54830</td>\n",
              "    </tr>\n",
              "    <tr>\n",
              "      <th>1334</th>\n",
              "      <td>18</td>\n",
              "      <td>female</td>\n",
              "      <td>31.920</td>\n",
              "      <td>0</td>\n",
              "      <td>no</td>\n",
              "      <td>northeast</td>\n",
              "      <td>2205.98080</td>\n",
              "    </tr>\n",
              "    <tr>\n",
              "      <th>1335</th>\n",
              "      <td>18</td>\n",
              "      <td>female</td>\n",
              "      <td>36.850</td>\n",
              "      <td>0</td>\n",
              "      <td>no</td>\n",
              "      <td>southeast</td>\n",
              "      <td>1629.83350</td>\n",
              "    </tr>\n",
              "    <tr>\n",
              "      <th>1336</th>\n",
              "      <td>21</td>\n",
              "      <td>female</td>\n",
              "      <td>25.800</td>\n",
              "      <td>0</td>\n",
              "      <td>no</td>\n",
              "      <td>southwest</td>\n",
              "      <td>2007.94500</td>\n",
              "    </tr>\n",
              "    <tr>\n",
              "      <th>1337</th>\n",
              "      <td>61</td>\n",
              "      <td>female</td>\n",
              "      <td>29.070</td>\n",
              "      <td>0</td>\n",
              "      <td>yes</td>\n",
              "      <td>northwest</td>\n",
              "      <td>29141.36030</td>\n",
              "    </tr>\n",
              "  </tbody>\n",
              "</table>\n",
              "<p>1338 rows × 7 columns</p>\n",
              "</div>"
            ],
            "text/plain": [
              "      age     sex     bmi  children smoker     region      charges\n",
              "0      19  female  27.900         0    yes  southwest  16884.92400\n",
              "1      18    male  33.770         1     no  southeast   1725.55230\n",
              "2      28    male  33.000         3     no  southeast   4449.46200\n",
              "3      33    male  22.705         0     no  northwest  21984.47061\n",
              "4      32    male  28.880         0     no  northwest   3866.85520\n",
              "...   ...     ...     ...       ...    ...        ...          ...\n",
              "1333   50    male  30.970         3     no  northwest  10600.54830\n",
              "1334   18  female  31.920         0     no  northeast   2205.98080\n",
              "1335   18  female  36.850         0     no  southeast   1629.83350\n",
              "1336   21  female  25.800         0     no  southwest   2007.94500\n",
              "1337   61  female  29.070         0    yes  northwest  29141.36030\n",
              "\n",
              "[1338 rows x 7 columns]"
            ]
          },
          "metadata": {},
          "execution_count": 33
        }
      ]
    },
    {
      "cell_type": "code",
      "metadata": {
        "colab": {
          "base_uri": "https://localhost:8080/",
          "height": 205
        },
        "id": "e2aypO_jEPIQ",
        "outputId": "c530a23f-1668-47ac-d6e2-39d1e211b712"
      },
      "source": [
        "#one hot encode categorical columns\n",
        "insurance_one_hot = pd.get_dummies(insurance)\n",
        "insurance_one_hot.head()"
      ],
      "execution_count": null,
      "outputs": [
        {
          "output_type": "execute_result",
          "data": {
            "text/html": [
              "<div>\n",
              "<style scoped>\n",
              "    .dataframe tbody tr th:only-of-type {\n",
              "        vertical-align: middle;\n",
              "    }\n",
              "\n",
              "    .dataframe tbody tr th {\n",
              "        vertical-align: top;\n",
              "    }\n",
              "\n",
              "    .dataframe thead th {\n",
              "        text-align: right;\n",
              "    }\n",
              "</style>\n",
              "<table border=\"1\" class=\"dataframe\">\n",
              "  <thead>\n",
              "    <tr style=\"text-align: right;\">\n",
              "      <th></th>\n",
              "      <th>age</th>\n",
              "      <th>bmi</th>\n",
              "      <th>children</th>\n",
              "      <th>charges</th>\n",
              "      <th>sex_female</th>\n",
              "      <th>sex_male</th>\n",
              "      <th>smoker_no</th>\n",
              "      <th>smoker_yes</th>\n",
              "      <th>region_northeast</th>\n",
              "      <th>region_northwest</th>\n",
              "      <th>region_southeast</th>\n",
              "      <th>region_southwest</th>\n",
              "    </tr>\n",
              "  </thead>\n",
              "  <tbody>\n",
              "    <tr>\n",
              "      <th>0</th>\n",
              "      <td>19</td>\n",
              "      <td>27.900</td>\n",
              "      <td>0</td>\n",
              "      <td>16884.92400</td>\n",
              "      <td>1</td>\n",
              "      <td>0</td>\n",
              "      <td>0</td>\n",
              "      <td>1</td>\n",
              "      <td>0</td>\n",
              "      <td>0</td>\n",
              "      <td>0</td>\n",
              "      <td>1</td>\n",
              "    </tr>\n",
              "    <tr>\n",
              "      <th>1</th>\n",
              "      <td>18</td>\n",
              "      <td>33.770</td>\n",
              "      <td>1</td>\n",
              "      <td>1725.55230</td>\n",
              "      <td>0</td>\n",
              "      <td>1</td>\n",
              "      <td>1</td>\n",
              "      <td>0</td>\n",
              "      <td>0</td>\n",
              "      <td>0</td>\n",
              "      <td>1</td>\n",
              "      <td>0</td>\n",
              "    </tr>\n",
              "    <tr>\n",
              "      <th>2</th>\n",
              "      <td>28</td>\n",
              "      <td>33.000</td>\n",
              "      <td>3</td>\n",
              "      <td>4449.46200</td>\n",
              "      <td>0</td>\n",
              "      <td>1</td>\n",
              "      <td>1</td>\n",
              "      <td>0</td>\n",
              "      <td>0</td>\n",
              "      <td>0</td>\n",
              "      <td>1</td>\n",
              "      <td>0</td>\n",
              "    </tr>\n",
              "    <tr>\n",
              "      <th>3</th>\n",
              "      <td>33</td>\n",
              "      <td>22.705</td>\n",
              "      <td>0</td>\n",
              "      <td>21984.47061</td>\n",
              "      <td>0</td>\n",
              "      <td>1</td>\n",
              "      <td>1</td>\n",
              "      <td>0</td>\n",
              "      <td>0</td>\n",
              "      <td>1</td>\n",
              "      <td>0</td>\n",
              "      <td>0</td>\n",
              "    </tr>\n",
              "    <tr>\n",
              "      <th>4</th>\n",
              "      <td>32</td>\n",
              "      <td>28.880</td>\n",
              "      <td>0</td>\n",
              "      <td>3866.85520</td>\n",
              "      <td>0</td>\n",
              "      <td>1</td>\n",
              "      <td>1</td>\n",
              "      <td>0</td>\n",
              "      <td>0</td>\n",
              "      <td>1</td>\n",
              "      <td>0</td>\n",
              "      <td>0</td>\n",
              "    </tr>\n",
              "  </tbody>\n",
              "</table>\n",
              "</div>"
            ],
            "text/plain": [
              "   age     bmi  children  ...  region_northwest  region_southeast  region_southwest\n",
              "0   19  27.900         0  ...                 0                 0                 1\n",
              "1   18  33.770         1  ...                 0                 1                 0\n",
              "2   28  33.000         3  ...                 0                 1                 0\n",
              "3   33  22.705         0  ...                 1                 0                 0\n",
              "4   32  28.880         0  ...                 1                 0                 0\n",
              "\n",
              "[5 rows x 12 columns]"
            ]
          },
          "metadata": {},
          "execution_count": 34
        }
      ]
    },
    {
      "cell_type": "code",
      "metadata": {
        "id": "FWq5hNWVERCO",
        "colab": {
          "base_uri": "https://localhost:8080/"
        },
        "outputId": "e8e7e40a-17d1-4fa8-ac41-9801081152fc"
      },
      "source": [
        "#Create X and y values\n",
        "y = insurance_one_hot['charges']\n",
        "X = insurance_one_hot.drop(columns='charges')\n",
        "X.head(), y.head()"
      ],
      "execution_count": null,
      "outputs": [
        {
          "output_type": "execute_result",
          "data": {
            "text/plain": [
              "(   age     bmi  children  ...  region_northwest  region_southeast  region_southwest\n",
              " 0   19  27.900         0  ...                 0                 0                 1\n",
              " 1   18  33.770         1  ...                 0                 1                 0\n",
              " 2   28  33.000         3  ...                 0                 1                 0\n",
              " 3   33  22.705         0  ...                 1                 0                 0\n",
              " 4   32  28.880         0  ...                 1                 0                 0\n",
              " \n",
              " [5 rows x 11 columns], 0    16884.92400\n",
              " 1     1725.55230\n",
              " 2     4449.46200\n",
              " 3    21984.47061\n",
              " 4     3866.85520\n",
              " Name: charges, dtype: float64)"
            ]
          },
          "metadata": {},
          "execution_count": 35
        }
      ]
    },
    {
      "cell_type": "code",
      "metadata": {
        "id": "XO-9k57iCq8O"
      },
      "source": [
        "#create train test split for the X and y data\n",
        "from sklearn.model_selection import train_test_split\n",
        "X_train, X_test, y_train, y_test = train_test_split(X, y, test_size=0.2, random_state=42)"
      ],
      "execution_count": null,
      "outputs": []
    },
    {
      "cell_type": "code",
      "metadata": {
        "id": "FqPLN04bGIAe",
        "colab": {
          "base_uri": "https://localhost:8080/"
        },
        "outputId": "035cf96b-7627-46ab-a45b-cd984a97b5b5"
      },
      "source": [
        "#Now lets build a model\n",
        "insurance_model = tf.keras.models.Sequential([\n",
        "                                              tf.keras.layers.Dense(units=10),\n",
        "                                              tf.keras.layers.Dense(1)\n",
        "])\n",
        "\n",
        "insurance_model.compile(loss=tf.keras.losses.mae,\n",
        "                        optimizer=tf.keras.optimizers.SGD(),\n",
        "                        metrics=tf.keras.metrics.mae)\n",
        "\n",
        "insurance_model.fit(X_train, y_train, epochs=100, verbose=0)"
      ],
      "execution_count": null,
      "outputs": [
        {
          "output_type": "execute_result",
          "data": {
            "text/plain": [
              "<keras.callbacks.History at 0x7f06c1155e10>"
            ]
          },
          "metadata": {},
          "execution_count": 37
        }
      ]
    },
    {
      "cell_type": "code",
      "metadata": {
        "colab": {
          "base_uri": "https://localhost:8080/"
        },
        "id": "odYHFxVlH5qy",
        "outputId": "e46b195d-1794-4db4-a92e-b434c41d04bb"
      },
      "source": [
        "#Now check how the model actually works\n",
        "insurance_model.evaluate(X_test, y_test)"
      ],
      "execution_count": null,
      "outputs": [
        {
          "output_type": "stream",
          "name": "stdout",
          "text": [
            "9/9 [==============================] - 0s 4ms/step - loss: 8443.0430 - mean_absolute_error: 8443.0430\n"
          ]
        },
        {
          "output_type": "execute_result",
          "data": {
            "text/plain": [
              "[8443.04296875, 8443.04296875]"
            ]
          },
          "metadata": {},
          "execution_count": 38
        }
      ]
    },
    {
      "cell_type": "code",
      "metadata": {
        "id": "c5Gon4tzLkGn"
      },
      "source": [
        "#Now lets make the model better\n",
        "tf.random.set_seed(42)\n",
        "\n",
        "insurance_model2 = tf.keras.models.Sequential([\n",
        "                                               tf.keras.layers.Dense(units=100),\n",
        "                                               tf.keras.layers.Dense(units=10),\n",
        "                                               tf.keras.layers.Dense(units=1)\n",
        "])\n",
        "insurance_model2.compile(loss=tf.keras.losses.mae,\n",
        "                        optimizer=tf.keras.optimizers.Adam(),\n",
        "                        metrics=tf.keras.metrics.mae)\n",
        "\n",
        "history = insurance_model2.fit(X_train, y_train, epochs=200, verbose=0)"
      ],
      "execution_count": null,
      "outputs": []
    },
    {
      "cell_type": "code",
      "metadata": {
        "colab": {
          "base_uri": "https://localhost:8080/"
        },
        "id": "rEEVlcNBHQfV",
        "outputId": "9612c314-ff21-45d5-f1e3-39db6fccbd0a"
      },
      "source": [
        "#Evaluate the larger model now\n",
        "insurance_model2.evaluate(X_test, y_test)"
      ],
      "execution_count": null,
      "outputs": [
        {
          "output_type": "stream",
          "name": "stdout",
          "text": [
            "9/9 [==============================] - 0s 3ms/step - loss: 3494.5325 - mean_absolute_error: 3494.5325\n"
          ]
        },
        {
          "output_type": "execute_result",
          "data": {
            "text/plain": [
              "[3494.532470703125, 3494.532470703125]"
            ]
          },
          "metadata": {},
          "execution_count": 46
        }
      ]
    },
    {
      "cell_type": "code",
      "metadata": {
        "colab": {
          "base_uri": "https://localhost:8080/",
          "height": 297
        },
        "id": "ic0sPXPyHic8",
        "outputId": "aa351a05-8213-455d-ae0f-946c38a04611"
      },
      "source": [
        "#Now plot the history\n",
        "pd.DataFrame(history.history).plot()\n",
        "plt.xlabel(\"epochs\")\n",
        "plt.ylabel(\"loss\")"
      ],
      "execution_count": null,
      "outputs": [
        {
          "output_type": "execute_result",
          "data": {
            "text/plain": [
              "Text(0, 0.5, 'loss')"
            ]
          },
          "metadata": {},
          "execution_count": 47
        },
        {
          "output_type": "display_data",
          "data": {
            "image/png": "[encoded data removed]",
            "text/plain": [
              "<Figure size 432x288 with 1 Axes>"
            ]
          },
          "metadata": {
            "needs_background": "light"
          }
        }
      ]
    },
    {
      "cell_type": "markdown",
      "metadata": {
        "id": "R_lanPdQJ1O3"
      },
      "source": [
        "Preprocessing data (Normalisation and Standardization)"
      ]
    },
    {
      "cell_type": "code",
      "metadata": {
        "colab": {
          "base_uri": "https://localhost:8080/",
          "height": 421
        },
        "id": "C9KWvxTlKqdv",
        "outputId": "a13b1e15-c61b-49cf-c1fc-80267e811d47"
      },
      "source": [
        "X"
      ],
      "execution_count": null,
      "outputs": [
        {
          "output_type": "execute_result",
          "data": {
            "text/html": [
              "<div>\n",
              "<style scoped>\n",
              "    .dataframe tbody tr th:only-of-type {\n",
              "        vertical-align: middle;\n",
              "    }\n",
              "\n",
              "    .dataframe tbody tr th {\n",
              "        vertical-align: top;\n",
              "    }\n",
              "\n",
              "    .dataframe thead th {\n",
              "        text-align: right;\n",
              "    }\n",
              "</style>\n",
              "<table border=\"1\" class=\"dataframe\">\n",
              "  <thead>\n",
              "    <tr style=\"text-align: right;\">\n",
              "      <th></th>\n",
              "      <th>age</th>\n",
              "      <th>bmi</th>\n",
              "      <th>children</th>\n",
              "      <th>sex_female</th>\n",
              "      <th>sex_male</th>\n",
              "      <th>smoker_no</th>\n",
              "      <th>smoker_yes</th>\n",
              "      <th>region_northeast</th>\n",
              "      <th>region_northwest</th>\n",
              "      <th>region_southeast</th>\n",
              "      <th>region_southwest</th>\n",
              "    </tr>\n",
              "  </thead>\n",
              "  <tbody>\n",
              "    <tr>\n",
              "      <th>0</th>\n",
              "      <td>19</td>\n",
              "      <td>27.900</td>\n",
              "      <td>0</td>\n",
              "      <td>1</td>\n",
              "      <td>0</td>\n",
              "      <td>0</td>\n",
              "      <td>1</td>\n",
              "      <td>0</td>\n",
              "      <td>0</td>\n",
              "      <td>0</td>\n",
              "      <td>1</td>\n",
              "    </tr>\n",
              "    <tr>\n",
              "      <th>1</th>\n",
              "      <td>18</td>\n",
              "      <td>33.770</td>\n",
              "      <td>1</td>\n",
              "      <td>0</td>\n",
              "      <td>1</td>\n",
              "      <td>1</td>\n",
              "      <td>0</td>\n",
              "      <td>0</td>\n",
              "      <td>0</td>\n",
              "      <td>1</td>\n",
              "      <td>0</td>\n",
              "    </tr>\n",
              "    <tr>\n",
              "      <th>2</th>\n",
              "      <td>28</td>\n",
              "      <td>33.000</td>\n",
              "      <td>3</td>\n",
              "      <td>0</td>\n",
              "      <td>1</td>\n",
              "      <td>1</td>\n",
              "      <td>0</td>\n",
              "      <td>0</td>\n",
              "      <td>0</td>\n",
              "      <td>1</td>\n",
              "      <td>0</td>\n",
              "    </tr>\n",
              "    <tr>\n",
              "      <th>3</th>\n",
              "      <td>33</td>\n",
              "      <td>22.705</td>\n",
              "      <td>0</td>\n",
              "      <td>0</td>\n",
              "      <td>1</td>\n",
              "      <td>1</td>\n",
              "      <td>0</td>\n",
              "      <td>0</td>\n",
              "      <td>1</td>\n",
              "      <td>0</td>\n",
              "      <td>0</td>\n",
              "    </tr>\n",
              "    <tr>\n",
              "      <th>4</th>\n",
              "      <td>32</td>\n",
              "      <td>28.880</td>\n",
              "      <td>0</td>\n",
              "      <td>0</td>\n",
              "      <td>1</td>\n",
              "      <td>1</td>\n",
              "      <td>0</td>\n",
              "      <td>0</td>\n",
              "      <td>1</td>\n",
              "      <td>0</td>\n",
              "      <td>0</td>\n",
              "    </tr>\n",
              "    <tr>\n",
              "      <th>...</th>\n",
              "      <td>...</td>\n",
              "      <td>...</td>\n",
              "      <td>...</td>\n",
              "      <td>...</td>\n",
              "      <td>...</td>\n",
              "      <td>...</td>\n",
              "      <td>...</td>\n",
              "      <td>...</td>\n",
              "      <td>...</td>\n",
              "      <td>...</td>\n",
              "      <td>...</td>\n",
              "    </tr>\n",
              "    <tr>\n",
              "      <th>1333</th>\n",
              "      <td>50</td>\n",
              "      <td>30.970</td>\n",
              "      <td>3</td>\n",
              "      <td>0</td>\n",
              "      <td>1</td>\n",
              "      <td>1</td>\n",
              "      <td>0</td>\n",
              "      <td>0</td>\n",
              "      <td>1</td>\n",
              "      <td>0</td>\n",
              "      <td>0</td>\n",
              "    </tr>\n",
              "    <tr>\n",
              "      <th>1334</th>\n",
              "      <td>18</td>\n",
              "      <td>31.920</td>\n",
              "      <td>0</td>\n",
              "      <td>1</td>\n",
              "      <td>0</td>\n",
              "      <td>1</td>\n",
              "      <td>0</td>\n",
              "      <td>1</td>\n",
              "      <td>0</td>\n",
              "      <td>0</td>\n",
              "      <td>0</td>\n",
              "    </tr>\n",
              "    <tr>\n",
              "      <th>1335</th>\n",
              "      <td>18</td>\n",
              "      <td>36.850</td>\n",
              "      <td>0</td>\n",
              "      <td>1</td>\n",
              "      <td>0</td>\n",
              "      <td>1</td>\n",
              "      <td>0</td>\n",
              "      <td>0</td>\n",
              "      <td>0</td>\n",
              "      <td>1</td>\n",
              "      <td>0</td>\n",
              "    </tr>\n",
              "    <tr>\n",
              "      <th>1336</th>\n",
              "      <td>21</td>\n",
              "      <td>25.800</td>\n",
              "      <td>0</td>\n",
              "      <td>1</td>\n",
              "      <td>0</td>\n",
              "      <td>1</td>\n",
              "      <td>0</td>\n",
              "      <td>0</td>\n",
              "      <td>0</td>\n",
              "      <td>0</td>\n",
              "      <td>1</td>\n",
              "    </tr>\n",
              "    <tr>\n",
              "      <th>1337</th>\n",
              "      <td>61</td>\n",
              "      <td>29.070</td>\n",
              "      <td>0</td>\n",
              "      <td>1</td>\n",
              "      <td>0</td>\n",
              "      <td>0</td>\n",
              "      <td>1</td>\n",
              "      <td>0</td>\n",
              "      <td>1</td>\n",
              "      <td>0</td>\n",
              "      <td>0</td>\n",
              "    </tr>\n",
              "  </tbody>\n",
              "</table>\n",
              "<p>1338 rows × 11 columns</p>\n",
              "</div>"
            ],
            "text/plain": [
              "      age     bmi  ...  region_southeast  region_southwest\n",
              "0      19  27.900  ...                 0                 1\n",
              "1      18  33.770  ...                 1                 0\n",
              "2      28  33.000  ...                 1                 0\n",
              "3      33  22.705  ...                 0                 0\n",
              "4      32  28.880  ...                 0                 0\n",
              "...   ...     ...  ...               ...               ...\n",
              "1333   50  30.970  ...                 0                 0\n",
              "1334   18  31.920  ...                 0                 0\n",
              "1335   18  36.850  ...                 1                 0\n",
              "1336   21  25.800  ...                 0                 1\n",
              "1337   61  29.070  ...                 0                 0\n",
              "\n",
              "[1338 rows x 11 columns]"
            ]
          },
          "metadata": {},
          "execution_count": 48
        }
      ]
    },
    {
      "cell_type": "code",
      "metadata": {
        "colab": {
          "base_uri": "https://localhost:8080/",
          "height": 283
        },
        "id": "qopFOIWTLY1N",
        "outputId": "863bed7a-418c-43f2-d6c9-1b79a3114cff"
      },
      "source": [
        "X[\"age\"].plot(kind = 'hist')"
      ],
      "execution_count": null,
      "outputs": [
        {
          "output_type": "execute_result",
          "data": {
            "text/plain": [
              "<matplotlib.axes._subplots.AxesSubplot at 0x7f06cb049710>"
            ]
          },
          "metadata": {},
          "execution_count": 49
        },
        {
          "output_type": "display_data",
          "data": {
            "image/png": "[encoded data removed]",
            "text/plain": [
              "<Figure size 432x288 with 1 Axes>"
            ]
          },
          "metadata": {
            "needs_background": "light"
          }
        }
      ]
    },
    {
      "cell_type": "code",
      "metadata": {
        "colab": {
          "base_uri": "https://localhost:8080/",
          "height": 283
        },
        "id": "NMEen5YkLmRr",
        "outputId": "d1179e32-4340-410c-93b1-62f9562b75ee"
      },
      "source": [
        "X['bmi'].plot(kind = 'hist')"
      ],
      "execution_count": null,
      "outputs": [
        {
          "output_type": "execute_result",
          "data": {
            "text/plain": [
              "<matplotlib.axes._subplots.AxesSubplot at 0x7f06caf8e650>"
            ]
          },
          "metadata": {},
          "execution_count": 50
        },
        {
          "output_type": "display_data",
          "data": {
            "image/png": "[encoded data removed]",
            "text/plain": [
              "<Figure size 432x288 with 1 Axes>"
            ]
          },
          "metadata": {
            "needs_background": "light"
          }
        }
      ]
    },
    {
      "cell_type": "code",
      "metadata": {
        "id": "mhriHye8LwlW"
      },
      "source": [
        "from sklearn.compose import make_column_transformer\n",
        "from sklearn.preprocessing import MinMaxScaler, OneHotEncoder\n",
        "from sklearn.model_selection import  train_test_split\n",
        "\n",
        "#Create a column transformer\n",
        "ct = make_column_transformer(\n",
        "    (MinMaxScaler(), [\"age\", \"bmi\", \"children\"]),\n",
        "    (OneHotEncoder(handle_unknown='ignore'), [\"sex\", \"smoker\", \"region\"])\n",
        ")\n",
        "\n",
        "#Create X and y\n",
        "X = insurance.drop(\"charges\", axis=1)\n",
        "y = insurance[\"charges\"]\n",
        "\n",
        "#Build train and test splits\n",
        "X_train, X_test, y_train, y_test = train_test_split(X, y, test_size=0.2, random_state=42)\n",
        "\n",
        "#Fit the column transformer to our training data\n",
        "ct.fit(X_train)\n",
        "\n",
        "#Now transform training data and testing data to normalize\n",
        "X_train_normal = ct.transform(X_train)\n",
        "X_test_normal = ct.transform(X_test)"
      ],
      "execution_count": null,
      "outputs": []
    },
    {
      "cell_type": "code",
      "metadata": {
        "colab": {
          "base_uri": "https://localhost:8080/"
        },
        "id": "2HcHZEJSNw_z",
        "outputId": "f12b6f2f-d19e-428a-94f1-300e7e376c5b"
      },
      "source": [
        "#What does the data look like now\n",
        "X_train_normal[0]"
      ],
      "execution_count": null,
      "outputs": [
        {
          "output_type": "execute_result",
          "data": {
            "text/plain": [
              "array([0.60869565, 0.10734463, 0.4       , 1.        , 0.        ,\n",
              "       1.        , 0.        , 0.        , 1.        , 0.        ,\n",
              "       0.        ])"
            ]
          },
          "metadata": {},
          "execution_count": 54
        }
      ]
    },
    {
      "cell_type": "code",
      "metadata": {
        "id": "sIOCpH_iPTp0"
      },
      "source": [
        "#Now lets build a neural network model and see how it goes\n",
        "tf.random.set_seed(42)\n",
        "\n",
        "insurance_model3 = tf.keras.models.Sequential([\n",
        "                                               tf.keras.layers.Dense(units=100),\n",
        "                                               tf.keras.layers.Dense(units=10),\n",
        "                                               tf.keras.layers.Dense(units=1)\n",
        "])\n",
        "insurance_model3.compile(loss=tf.keras.losses.mae,\n",
        "                        optimizer=tf.keras.optimizers.Adam(),\n",
        "                        metrics=tf.keras.metrics.mae)\n",
        "\n",
        "history = insurance_model3.fit(X_train_normal, y_train, epochs=200, verbose=0)"
      ],
      "execution_count": null,
      "outputs": []
    },
    {
      "cell_type": "code",
      "metadata": {
        "colab": {
          "base_uri": "https://localhost:8080/"
        },
        "id": "f3_XEBhjPzFD",
        "outputId": "1ca0de0e-4b59-4d96-b7c1-919580f02f66"
      },
      "source": [
        "#Evaluate the larger model now with normalised data\n",
        "insurance_model3.evaluate(X_test_normal, y_test)"
      ],
      "execution_count": null,
      "outputs": [
        {
          "output_type": "stream",
          "name": "stdout",
          "text": [
            "9/9 [==============================] - 0s 3ms/step - loss: 3171.5779 - mean_absolute_error: 3171.5779\n"
          ]
        },
        {
          "output_type": "execute_result",
          "data": {
            "text/plain": [
              "[3171.577880859375, 3171.577880859375]"
            ]
          },
          "metadata": {},
          "execution_count": 56
        }
      ]
    },
    {
      "cell_type": "code",
      "metadata": {
        "colab": {
          "base_uri": "https://localhost:8080/"
        },
        "id": "9H2QFrGoP8-o",
        "outputId": "43d08d17-efe4-41f0-d0b2-e89fdb1bd026"
      },
      "source": [],
      "execution_count": null,
      "outputs": [
        {
          "output_type": "stream",
          "name": "stdout",
          "text": [
            "Model: \"sequential_7\"\n",
            "_________________________________________________________________\n",
            "Layer (type)                 Output Shape              Param #   \n",
            "=================================================================\n",
            "dense_18 (Dense)             (None, 100)               1200      \n",
            "_________________________________________________________________\n",
            "dense_19 (Dense)             (None, 10)                1010      \n",
            "_________________________________________________________________\n",
            "dense_20 (Dense)             (None, 1)                 11        \n",
            "=================================================================\n",
            "Total params: 2,221\n",
            "Trainable params: 2,221\n",
            "Non-trainable params: 0\n",
            "_________________________________________________________________\n"
          ]
        }
      ]
    },
    {
      "cell_type": "code",
      "metadata": {
        "id": "Jijp5JhaYDgw"
      },
      "source": [],
      "execution_count": null,
      "outputs": []
    }
  ]
}