{
  "nbformat": 4,
  "nbformat_minor": 0,
  "metadata": {
    "colab": {
      "provenance": []
    },
    "kernelspec": {
      "name": "python3",
      "display_name": "Python 3"
    },
    "language_info": {
      "name": "python"
    },
    "accelerator": "GPU"
  },
  "cells": [
    {
      "cell_type": "code",
      "metadata": {
        "id": "sxc3FStlW_s0"
      },
      "source": [
        "import tensorflow as tf\n",
        "import numpy as np\n",
        "import pandas as pd\n",
        "import matplotlib.pyplot as plt\n",
        "import random\n",
        "import os\n",
        "import zipfile\n",
        "from tensorflow.keras.preprocessing.image import ImageDataGenerator"
      ],
      "execution_count": null,
      "outputs": []
    },
    {
      "cell_type": "code",
      "metadata": {
        "id": "0aHwjIlejxmG",
        "colab": {
          "base_uri": "https://localhost:8080/"
        },
        "outputId": "dd976e86-941e-4a81-dd81-d22cd3268d5d"
      },
      "source": [
        "#Are we using a GPU\n",
        "!nvidia-smi"
      ],
      "execution_count": null,
      "outputs": [
        {
          "output_type": "stream",
          "name": "stdout",
          "text": [
            "Wed Nov 10 20:53:36 2021       \n",
            "+-----------------------------------------------------------------------------+\n",
            "| NVIDIA-SMI 495.44       Driver Version: 460.32.03    CUDA Version: 11.2     |\n",
            "|-------------------------------+----------------------+----------------------+\n",
            "| GPU  Name        Persistence-M| Bus-Id        Disp.A | Volatile Uncorr. ECC |\n",
            "| Fan  Temp  Perf  Pwr:Usage/Cap|         Memory-Usage | GPU-Util  Compute M. |\n",
            "|                               |                      |               MIG M. |\n",
            "|===============================+======================+======================|\n",
            "|   0  Tesla K80           Off  | 00000000:00:04.0 Off |                    0 |\n",
            "| N/A   72C    P8    33W / 149W |      0MiB / 11441MiB |      0%      Default |\n",
            "|                               |                      |                  N/A |\n",
            "+-------------------------------+----------------------+----------------------+\n",
            "                                                                               \n",
            "+-----------------------------------------------------------------------------+\n",
            "| Processes:                                                                  |\n",
            "|  GPU   GI   CI        PID   Type   Process name                  GPU Memory |\n",
            "|        ID   ID                                                   Usage      |\n",
            "|=============================================================================|\n",
            "|  No running processes found                                                 |\n",
            "+-----------------------------------------------------------------------------+\n"
          ]
        }
      ]
    },
    {
      "cell_type": "code",
      "metadata": {
        "colab": {
          "base_uri": "https://localhost:8080/"
        },
        "id": "_aLJmnhyjp2_",
        "outputId": "7b6ada85-4ea1-415a-eedc-f7d77e119f59"
      },
      "source": [
        "#Download the data (10% of 10 food classes ip file)\n",
        "!wget https://storage.googleapis.com/ztm_tf_course/food_vision/10_food_classes_10_percent.zip\n",
        "\n",
        "zip_ref = zipfile.ZipFile(\"10_food_classes_10_percent.zip\")\n",
        "zip_ref.extractall()\n",
        "zip_ref.close()"
      ],
      "execution_count": null,
      "outputs": [
        {
          "output_type": "stream",
          "name": "stdout",
          "text": [
            "--2021-11-10 20:53:36--  https://storage.googleapis.com/ztm_tf_course/food_vision/10_food_classes_10_percent.zip\n",
            "Resolving storage.googleapis.com (storage.googleapis.com)... 108.177.15.128, 173.194.76.128, 66.102.1.128, ...\n",
            "Connecting to storage.googleapis.com (storage.googleapis.com)|108.177.15.128|:443... connected.\n",
            "HTTP request sent, awaiting response... 200 OK\n",
            "Length: 168546183 (161M) [application/zip]\n",
            "Saving to: ‘10_food_classes_10_percent.zip’\n",
            "\n",
            "10_food_classes_10_ 100%[===================>] 160.74M   122MB/s    in 1.3s    \n",
            "\n",
            "2021-11-10 20:53:38 (122 MB/s) - ‘10_food_classes_10_percent.zip’ saved [168546183/168546183]\n",
            "\n"
          ]
        }
      ]
    },
    {
      "cell_type": "code",
      "metadata": {
        "colab": {
          "base_uri": "https://localhost:8080/"
        },
        "id": "3k_1SM66kZQj",
        "outputId": "c6bc13e6-5b7c-4022-b271-b1c2779fe291"
      },
      "source": [
        "#Food-101 dataset with 10 classes (10% data only)\n",
        "for dirpath, dirnames, filenames in os.walk(\"10_food_classes_10_percent\"):\n",
        "  print (f\"There are {len(dirnames)} directories and {len(filenames)} images in '{dirpath}'.\")"
      ],
      "execution_count": null,
      "outputs": [
        {
          "output_type": "stream",
          "name": "stdout",
          "text": [
            "There are 2 directories and 0 images in '10_food_classes_10_percent'.\n",
            "There are 10 directories and 0 images in '10_food_classes_10_percent/test'.\n",
            "There are 0 directories and 250 images in '10_food_classes_10_percent/test/pizza'.\n",
            "There are 0 directories and 250 images in '10_food_classes_10_percent/test/hamburger'.\n",
            "There are 0 directories and 250 images in '10_food_classes_10_percent/test/ramen'.\n",
            "There are 0 directories and 250 images in '10_food_classes_10_percent/test/chicken_curry'.\n",
            "There are 0 directories and 250 images in '10_food_classes_10_percent/test/sushi'.\n",
            "There are 0 directories and 250 images in '10_food_classes_10_percent/test/ice_cream'.\n",
            "There are 0 directories and 250 images in '10_food_classes_10_percent/test/grilled_salmon'.\n",
            "There are 0 directories and 250 images in '10_food_classes_10_percent/test/fried_rice'.\n",
            "There are 0 directories and 250 images in '10_food_classes_10_percent/test/chicken_wings'.\n",
            "There are 0 directories and 250 images in '10_food_classes_10_percent/test/steak'.\n",
            "There are 10 directories and 0 images in '10_food_classes_10_percent/train'.\n",
            "There are 0 directories and 75 images in '10_food_classes_10_percent/train/pizza'.\n",
            "There are 0 directories and 75 images in '10_food_classes_10_percent/train/hamburger'.\n",
            "There are 0 directories and 75 images in '10_food_classes_10_percent/train/ramen'.\n",
            "There are 0 directories and 75 images in '10_food_classes_10_percent/train/chicken_curry'.\n",
            "There are 0 directories and 75 images in '10_food_classes_10_percent/train/sushi'.\n",
            "There are 0 directories and 75 images in '10_food_classes_10_percent/train/ice_cream'.\n",
            "There are 0 directories and 75 images in '10_food_classes_10_percent/train/grilled_salmon'.\n",
            "There are 0 directories and 75 images in '10_food_classes_10_percent/train/fried_rice'.\n",
            "There are 0 directories and 75 images in '10_food_classes_10_percent/train/chicken_wings'.\n",
            "There are 0 directories and 75 images in '10_food_classes_10_percent/train/steak'.\n"
          ]
        }
      ]
    },
    {
      "cell_type": "code",
      "metadata": {
        "colab": {
          "base_uri": "https://localhost:8080/"
        },
        "id": "yAgbvaT_kfJO",
        "outputId": "e1c6968d-525b-4f11-8477-e5847c8a4239"
      },
      "source": [
        "#Preparing the data\n",
        "\n",
        "IMAGE_SHAPE = (224,224)\n",
        "BATCH_SIZE = 32\n",
        "EPOCHS = 5\n",
        "\n",
        "train_dir = \"10_food_classes_10_percent/train/\"\n",
        "test_dir = \"10_food_classes_10_percent/train/\"\n",
        "\n",
        "train_datagen = ImageDataGenerator(rescale=1/255.)\n",
        "test_datagen = ImageDataGenerator(rescale=1/255.)\n",
        "\n",
        "print(\"Training Images\")\n",
        "train_data_10_percent = train_datagen.flow_from_directory(train_dir, target_size=IMAGE_SHAPE, batch_size=BATCH_SIZE, class_mode='categorical')\n",
        "print(\"Testing Images\")\n",
        "test_data_10_percent = test_datagen.flow_from_directory(test_dir, target_size=IMAGE_SHAPE, batch_size=BATCH_SIZE, class_mode='categorical')"
      ],
      "execution_count": null,
      "outputs": [
        {
          "output_type": "stream",
          "name": "stdout",
          "text": [
            "Training Images\n",
            "Found 750 images belonging to 10 classes.\n",
            "Testing Images\n",
            "Found 750 images belonging to 10 classes.\n"
          ]
        }
      ]
    },
    {
      "cell_type": "markdown",
      "metadata": {
        "id": "IQrbQCoxlpmk"
      },
      "source": [
        "Setting up callbacks (things to run whilst our model trains)"
      ]
    },
    {
      "cell_type": "code",
      "metadata": {
        "id": "asA6qDrCmWiw"
      },
      "source": [
        "#Create a functions to track the Tensorboard callback\n",
        "\n",
        "import datetime\n",
        "\n",
        "def create_tensorboard_callback(dir_name, experiment_name):\n",
        "  log_dir = dir_name + '/' + experiment_name + '/' + datetime.datetime.now().strftime('%Y%m%d-%H%M%S')\n",
        "  tensorboard_callback = tf.keras.callbacks.TensorBoard(log_dir=log_dir)\n",
        "  print(f\"Saving Tensorboard log files to : {log_dir}\")\n",
        "  return tensorboard_callback"
      ],
      "execution_count": null,
      "outputs": []
    },
    {
      "cell_type": "markdown",
      "metadata": {
        "id": "o7MQn2M8niRs"
      },
      "source": [
        "Creating models using Tensorflow Hub (A set of pre-trained models)\n",
        "\n"
      ]
    },
    {
      "cell_type": "code",
      "metadata": {
        "id": "0gALsOyDoyZu"
      },
      "source": [
        "#Lets pull efficientnet and resnet network links from Tensorflow hub and put together a model\n",
        "\n",
        "efficientnet_url = 'https://tfhub.dev/google/efficientnet/b0/feature-vector/1'\n",
        "resnet_url = 'https://tfhub.dev/google/imagenet/resnet_v2_50/feature_vector/5'"
      ],
      "execution_count": null,
      "outputs": []
    },
    {
      "cell_type": "code",
      "metadata": {
        "id": "ryrWF5OMr8T4"
      },
      "source": [
        "#Import dependencies\n",
        "import tensorflow_hub as hub\n",
        "\n",
        "#Lets make a create_model function to create the model\n",
        "def create_model(model_url, num_classes):\n",
        "  \"\"\"\n",
        "  Takes a TensorFlow hub URL and create a Keras sequential model.\n",
        "  \"\"\"\n",
        "  #pretrained model as a keras layer\n",
        "  feature_extractor_layer = hub.KerasLayer(model_url, trainable=False, name='feature_extractor_layer', input_shape = IMAGE_SHAPE+(3,))  #freeze already learnt patterns\n",
        "\n",
        "  #Create our own Sequentail layer\n",
        "  model = tf.keras.models.Sequential([\n",
        "                                      feature_extractor_layer,\n",
        "                                      tf.keras.layers.Dense(num_classes, activation=tf.keras.activations.softmax, name='output_layer')\n",
        "  ])\n",
        "\n",
        "  return model"
      ],
      "execution_count": null,
      "outputs": []
    },
    {
      "cell_type": "code",
      "metadata": {
        "id": "CoeNTdSKsRq3"
      },
      "source": [
        "#Creating a ResNet TensorFlow Hub feature extraction model\n",
        "resnet_model = create_model(model_url=resnet_url, num_classes=train_data_10_percent.num_classes)"
      ],
      "execution_count": null,
      "outputs": []
    },
    {
      "cell_type": "code",
      "metadata": {
        "colab": {
          "base_uri": "https://localhost:8080/"
        },
        "id": "1ffnzVZMta_A",
        "outputId": "12347f35-c045-47ba-b0dc-184154ccc0ee"
      },
      "source": [
        "resnet_model.summary()"
      ],
      "execution_count": null,
      "outputs": [
        {
          "output_type": "stream",
          "name": "stdout",
          "text": [
            "Model: \"sequential\"\n",
            "_________________________________________________________________\n",
            " Layer (type)                Output Shape              Param #   \n",
            "=================================================================\n",
            " feature_extractor_layer (Ke  (None, 2048)             23564800  \n",
            " rasLayer)                                                       \n",
            "                                                                 \n",
            " output_layer (Dense)        (None, 10)                20490     \n",
            "                                                                 \n",
            "=================================================================\n",
            "Total params: 23,585,290\n",
            "Trainable params: 20,490\n",
            "Non-trainable params: 23,564,800\n",
            "_________________________________________________________________\n"
          ]
        }
      ]
    },
    {
      "cell_type": "code",
      "metadata": {
        "id": "DPppwErzvOiF"
      },
      "source": [
        "#Compile the created model\n",
        "resnet_model.compile(loss=tf.keras.losses.CategoricalCrossentropy(),\n",
        "                     optimizer=tf.keras.optimizers.Adam(),\n",
        "                     metrics=['accuracy'])"
      ],
      "execution_count": null,
      "outputs": []
    },
    {
      "cell_type": "code",
      "metadata": {
        "colab": {
          "base_uri": "https://localhost:8080/"
        },
        "id": "vMKDEyW6vnPy",
        "outputId": "1ebc3241-3dfa-41f0-e4be-e21662d10616"
      },
      "source": [
        "#Fit the model\n",
        "history_resnet = resnet_model.fit(train_data_10_percent, \n",
        "                                  epochs=5,\n",
        "                                  steps_per_epoch=len(train_data_10_percent), \n",
        "                                  validation_data=test_data_10_percent, \n",
        "                                  validation_steps=len(test_data_10_percent), \n",
        "                                  callbacks=[create_tensorboard_callback(dir_name=\"tensorflow_hub\", experiment_name=\"resnet50V2\")])"
      ],
      "execution_count": null,
      "outputs": [
        {
          "output_type": "stream",
          "name": "stdout",
          "text": [
            "Saving Tensorboard log files to : tensorflow_hub/resnet50V2/20211110-205353\n",
            "Epoch 1/5\n",
            "24/24 [==============================] - 46s 518ms/step - loss: 1.8912 - accuracy: 0.3587 - val_loss: 1.0889 - val_accuracy: 0.6427\n",
            "Epoch 2/5\n",
            "24/24 [==============================] - 10s 438ms/step - loss: 0.8948 - accuracy: 0.7093 - val_loss: 0.6608 - val_accuracy: 0.8093\n",
            "Epoch 3/5\n",
            "24/24 [==============================] - 10s 436ms/step - loss: 0.6179 - accuracy: 0.8053 - val_loss: 0.4934 - val_accuracy: 0.8573\n",
            "Epoch 4/5\n",
            "24/24 [==============================] - 10s 438ms/step - loss: 0.4759 - accuracy: 0.8680 - val_loss: 0.4009 - val_accuracy: 0.9027\n",
            "Epoch 5/5\n",
            "24/24 [==============================] - 10s 436ms/step - loss: 0.3910 - accuracy: 0.8920 - val_loss: 0.3159 - val_accuracy: 0.9320\n"
          ]
        }
      ]
    },
    {
      "cell_type": "code",
      "metadata": {
        "id": "0Q8fsYJXwpJc"
      },
      "source": [
        "#Lets create a function to plot loss curves of both training and validation\n",
        "\n",
        "def plot_loss_curves(history):\n",
        "  loss = history.history['loss']\n",
        "  val_loss = history.history['val_loss']\n",
        "  accuracy = history.history['accuracy']\n",
        "  val_accuracy = history.history['val_accuracy']\n",
        "\n",
        "  epochs = range(len(history.history['loss']))\n",
        "\n",
        "  plt.plot(epochs, loss, label='training loss')\n",
        "  plt.plot(epochs, val_loss, label='validation loss')\n",
        "  plt.title('Loss')\n",
        "  plt.xlabel('Epochs')\n",
        "  plt.legend()\n",
        "\n",
        "  plt.figure()\n",
        "  plt.plot(epochs, accuracy, label='training accuracy')\n",
        "  plt.plot(epochs, val_accuracy, label='validation accuracy')\n",
        "  plt.title('Accuracy')\n",
        "  plt.xlabel('Epochs')\n",
        "  plt.legend()"
      ],
      "execution_count": null,
      "outputs": []
    },
    {
      "cell_type": "code",
      "metadata": {
        "colab": {
          "base_uri": "https://localhost:8080/",
          "height": 573
        },
        "id": "2aWUv_P7RuqS",
        "outputId": "7776ec77-7c21-4393-a37d-3322cd853b0f"
      },
      "source": [
        "plot_loss_curves(history_resnet)"
      ],
      "execution_count": null,
      "outputs": [
        {
          "output_type": "display_data",
          "data": {
            "image/png": "[encoded data removed]",
            "text/plain": [
              "<Figure size 432x288 with 1 Axes>"
            ]
          },
          "metadata": {
            "needs_background": "light"
          }
        },
        {
          "output_type": "display_data",
          "data": {
            "image/png": "[encoded data removed]",
            "text/plain": [
              "<Figure size 432x288 with 1 Axes>"
            ]
          },
          "metadata": {
            "needs_background": "light"
          }
        }
      ]
    },
    {
      "cell_type": "markdown",
      "metadata": {
        "id": "aej7hmZPRyUC"
      },
      "source": [
        "Now creating and testing efficientnet and see how it works"
      ]
    },
    {
      "cell_type": "code",
      "metadata": {
        "id": "hNl-YmLbSHq4"
      },
      "source": [
        "#Creating a EfficientNet TensorFlow Hub feature extraction model\n",
        "efficientnet_model = create_model(model_url=efficientnet_url, num_classes=train_data_10_percent.num_classes)"
      ],
      "execution_count": null,
      "outputs": []
    },
    {
      "cell_type": "code",
      "metadata": {
        "colab": {
          "base_uri": "https://localhost:8080/"
        },
        "id": "6vAHYp4iSRch",
        "outputId": "c2e750cc-576b-4b1d-d926-3ad3df9bb9d2"
      },
      "source": [
        "efficientnet_model.summary()"
      ],
      "execution_count": null,
      "outputs": [
        {
          "output_type": "stream",
          "name": "stdout",
          "text": [
            "Model: \"sequential_1\"\n",
            "_________________________________________________________________\n",
            " Layer (type)                Output Shape              Param #   \n",
            "=================================================================\n",
            " feature_extractor_layer (Ke  (None, 1280)             4049564   \n",
            " rasLayer)                                                       \n",
            "                                                                 \n",
            " output_layer (Dense)        (None, 10)                12810     \n",
            "                                                                 \n",
            "=================================================================\n",
            "Total params: 4,062,374\n",
            "Trainable params: 12,810\n",
            "Non-trainable params: 4,049,564\n",
            "_________________________________________________________________\n"
          ]
        }
      ]
    },
    {
      "cell_type": "code",
      "metadata": {
        "id": "ikry9ia1SX6I"
      },
      "source": [
        "#Compile the created model\n",
        "efficientnet_model.compile(loss=tf.keras.losses.CategoricalCrossentropy(),\n",
        "                     optimizer=tf.keras.optimizers.Adam(),\n",
        "                     metrics=['accuracy'])"
      ],
      "execution_count": null,
      "outputs": []
    },
    {
      "cell_type": "code",
      "metadata": {
        "colab": {
          "base_uri": "https://localhost:8080/"
        },
        "id": "58jo2PDJSfMX",
        "outputId": "06fc1898-f161-4396-fe3f-beffd2320601"
      },
      "source": [
        "#Fit the model\n",
        "history_efficientnet = efficientnet_model.fit(train_data_10_percent, \n",
        "                                  epochs=5,\n",
        "                                  steps_per_epoch=len(train_data_10_percent), \n",
        "                                  validation_data=test_data_10_percent, \n",
        "                                  validation_steps=len(test_data_10_percent), \n",
        "                                  callbacks=[create_tensorboard_callback(dir_name=\"tensorflow_hub\", experiment_name=\"efficientnetb0\")])"
      ],
      "execution_count": null,
      "outputs": [
        {
          "output_type": "stream",
          "name": "stdout",
          "text": [
            "Saving Tensorboard log files to : tensorflow_hub/efficientnetb0/20211110-205528\n",
            "Epoch 1/5\n",
            "24/24 [==============================] - 16s 442ms/step - loss: 1.8458 - accuracy: 0.4427 - val_loss: 1.2999 - val_accuracy: 0.7173\n",
            "Epoch 2/5\n",
            "24/24 [==============================] - 9s 383ms/step - loss: 1.0702 - accuracy: 0.7693 - val_loss: 0.8472 - val_accuracy: 0.8200\n",
            "Epoch 3/5\n",
            "24/24 [==============================] - 9s 383ms/step - loss: 0.7634 - accuracy: 0.8360 - val_loss: 0.6558 - val_accuracy: 0.8667\n",
            "Epoch 4/5\n",
            "24/24 [==============================] - 9s 382ms/step - loss: 0.6139 - accuracy: 0.8653 - val_loss: 0.5451 - val_accuracy: 0.8773\n",
            "Epoch 5/5\n",
            "24/24 [==============================] - 9s 383ms/step - loss: 0.5215 - accuracy: 0.8787 - val_loss: 0.4669 - val_accuracy: 0.9053\n"
          ]
        }
      ]
    },
    {
      "cell_type": "code",
      "metadata": {
        "colab": {
          "base_uri": "https://localhost:8080/",
          "height": 573
        },
        "id": "N8WQBxw7SzRX",
        "outputId": "ce76c902-1a24-4203-cb4f-1369c8a4b2a5"
      },
      "source": [
        "plot_loss_curves(history_efficientnet)"
      ],
      "execution_count": null,
      "outputs": [
        {
          "output_type": "display_data",
          "data": {
            "image/png": "[encoded data removed]",
            "text/plain": [
              "<Figure size 432x288 with 1 Axes>"
            ]
          },
          "metadata": {
            "needs_background": "light"
          }
        },
        {
          "output_type": "display_data",
          "data": {
            "image/png": "[encoded data removed]",
            "text/plain": [
              "<Figure size 432x288 with 1 Axes>"
            ]
          },
          "metadata": {
            "needs_background": "light"
          }
        }
      ]
    },
    {
      "cell_type": "markdown",
      "metadata": {
        "id": "wGXxSIEOTEyk"
      },
      "source": [
        "##Now lets try to use Tensorboard and compare the results from both the models developed above"
      ]
    },
    {
      "cell_type": "code",
      "metadata": {
        "colab": {
          "base_uri": "https://localhost:8080/"
        },
        "id": "rqw7mB-uumHr",
        "outputId": "dcfdbcbc-f815-4216-d177-9e055c6c96f0"
      },
      "source": [
        "#Upload Tensorboard dev records\n",
        "!tensorboard dev upload --logdir ./tensorflow_hub/ \\\n",
        "  --name \"EffecientNetB0 vs. ResNet50V2\" \\\n",
        "  --description \"Comparing two different TF Hub feature extraction models\" \\\n",
        "  --one_shot"
      ],
      "execution_count": null,
      "outputs": [
        {
          "output_type": "stream",
          "name": "stdout",
          "text": [
            "\n",
            "***** TensorBoard Uploader *****\n",
            "\n",
            "This will upload your TensorBoard logs to https://tensorboard.dev/ from\n",
            "the following directory:\n",
            "\n",
            "./tensorflow_hub/\n",
            "\n",
            "This TensorBoard will be visible to everyone. Do not upload sensitive\n",
            "data.\n",
            "\n",
            "Your use of this service is subject to Google's Terms of Service\n",
            "<https://policies.google.com/terms> and Privacy Policy\n",
            "<https://policies.google.com/privacy>, and TensorBoard.dev's Terms of Service\n",
            "<https://tensorboard.dev/policy/terms/>.\n",
            "\n",
            "This notice will not be shown again while you are logged into the uploader.\n",
            "To log out, run `tensorboard dev auth revoke`.\n",
            "\n",
            "Continue? (yes/NO) yes\n",
            "\n",
            "Please visit this URL to authorize this application: https://accounts.google.com/o/oauth2/auth?response_type=code&client_id=373649185512-8v619h5kft38l4456nm2dj4ubeqsrvh6.apps.googleusercontent.com&redirect_uri=urn%3Aietf%3Awg%3Aoauth%3A2.0%3Aoob&scope=openid+https%3A%2F%2Fwww.googleapis.com%2Fauth%2Fuserinfo.email&state=8PvoNzFuXPbAbHviFT0BIcsyrrErgY&prompt=consent&access_type=offline\n",
            "Enter the authorization code: 4/1AX4XfWhXdEsrCcNLS4sj7mMi-8b_4Coa-Qd5k4lRe7lEYzuUoCSGfLkvKjY\n",
            "\n",
            "\n",
            "New experiment created. View your TensorBoard at: https://tensorboard.dev/experiment/NqfNTz5TRByQtL4mpoJnoA/\n",
            "\n",
            "\u001b[1m[2021-11-10T21:25:31]\u001b[0m Started scanning logdir.\n",
            "\u001b[1m[2021-11-10T21:25:35]\u001b[0m Total uploaded: 60 scalars, 0 tensors, 2 binary objects (3.0 MB)\n",
            "\u001b[1m[2021-11-10T21:25:35]\u001b[0m Done scanning logdir.\n",
            "\n",
            "\n",
            "Done. View your TensorBoard at https://tensorboard.dev/experiment/NqfNTz5TRByQtL4mpoJnoA/\n"
          ]
        }
      ]
    },
    {
      "cell_type": "code",
      "metadata": {
        "colab": {
          "base_uri": "https://localhost:8080/"
        },
        "id": "k1lup7yevPzh",
        "outputId": "a2a28392-d392-4ae2-8ce5-c4b87391fd0b"
      },
      "source": [
        "#List all the experiments that are on tensorboard\n",
        "!tensorboard dev list"
      ],
      "execution_count": null,
      "outputs": [
        {
          "output_type": "stream",
          "name": "stdout",
          "text": [
            "https://tensorboard.dev/experiment/NqfNTz5TRByQtL4mpoJnoA/\n",
            "\tName                 EffecientNetB0 vs. ResNet50V2\n",
            "\tDescription          Comparing two different TF Hub feature extraction models\n",
            "\tId                   NqfNTz5TRByQtL4mpoJnoA\n",
            "\tCreated              2021-11-10 21:25:31 (7 minutes ago)\n",
            "\tUpdated              2021-11-10 21:25:34 (7 minutes ago)\n",
            "\tRuns                 4\n",
            "\tTags                 5\n",
            "\tScalars              60\n",
            "\tTensor bytes         0\n",
            "\tBinary object bytes  3138469\n",
            "Total: 1 experiment(s)\n"
          ]
        }
      ]
    },
    {
      "cell_type": "code",
      "metadata": {
        "id": "irrvW7c9w05V"
      },
      "source": [
        "#Delete an experiment on Tensorboard\n",
        "#!tensorboard dev delete --experiment_id NqfNTz5TRByQtL4mpoJnoA"
      ],
      "execution_count": null,
      "outputs": []
    },
    {
      "cell_type": "code",
      "metadata": {
        "id": "HrkIEcLNxTTr"
      },
      "source": [],
      "execution_count": null,
      "outputs": []
    }
  ]
}